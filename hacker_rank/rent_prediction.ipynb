{
 "cells": [
  {
   "cell_type": "markdown",
   "metadata": {
    "id": "8CpKi0TgtD1b"
   },
   "source": [
    "**Import**"
   ]
  },
  {
   "cell_type": "code",
   "execution_count": 2,
   "metadata": {
    "id": "M2rumPKShQqH"
   },
   "outputs": [],
   "source": [
    "import pandas as pd\n",
    "import matplotlib.pyplot as plt\n",
    "from sklearn.preprocessing import StandardScaler\n",
    "from sklearn.model_selection import train_test_split\n",
    "import tensorflow as tf\n",
    "import xgboost\n",
    "from sklearn.linear_model import LinearRegression\n",
    "from sklearn.ensemble import RandomForestRegressor\n",
    "from sklearn.neighbors import KNeighborsRegressor\n",
    "from sklearn.metrics import mean_squared_error, r2_score\n",
    "import numpy as np"
   ]
  },
  {
   "cell_type": "markdown",
   "metadata": {
    "id": "QQE8_UrCnpa-"
   },
   "source": [
    "**EDA**"
   ]
  },
  {
   "cell_type": "code",
   "execution_count": 5,
   "metadata": {
    "id": "gRRTFIJxiA-v"
   },
   "outputs": [],
   "source": [
    "train_data = pd.read_csv('/content/train.csv')\n",
    "train_data.drop(['id'], axis=1, inplace=True)"
   ]
  },
  {
   "cell_type": "code",
   "execution_count": 6,
   "metadata": {
    "colab": {
     "base_uri": "https://localhost:8080/"
    },
    "id": "3qM2nyx3mubS",
    "outputId": "d549e8bd-4ffa-4cf3-93ff-effbde720320"
   },
   "outputs": [
    {
     "name": "stdout",
     "output_type": "stream",
     "text": [
      "Total numerical features  29\n",
      "Total categorical features  5\n"
     ]
    }
   ],
   "source": [
    "CATEGORICAL_COLUMNS = train_data.select_dtypes(include=[object]).columns\n",
    "NUMERICAL_COLUMNS = train_data.select_dtypes(include=['int64', 'float64']).columns\n",
    "print(\"Total numerical features \",len(NUMERICAL_COLUMNS))\n",
    "print(\"Total categorical features \",len(CATEGORICAL_COLUMNS))"
   ]
  },
  {
   "cell_type": "code",
   "execution_count": 7,
   "metadata": {
    "colab": {
     "base_uri": "https://localhost:8080/",
     "height": 948
    },
    "id": "Fs2lbGVziINq",
    "outputId": "a234e903-de64-45ee-ec16-08959decfb49"
   },
   "outputs": [
    {
     "data": {
      "text/html": [
       "<div>\n",
       "<style scoped>\n",
       "    .dataframe tbody tr th:only-of-type {\n",
       "        vertical-align: middle;\n",
       "    }\n",
       "\n",
       "    .dataframe tbody tr th {\n",
       "        vertical-align: top;\n",
       "    }\n",
       "\n",
       "    .dataframe thead th {\n",
       "        text-align: right;\n",
       "    }\n",
       "</style>\n",
       "<table border=\"1\" class=\"dataframe\">\n",
       "  <thead>\n",
       "    <tr style=\"text-align: right;\">\n",
       "      <th></th>\n",
       "      <th>count</th>\n",
       "      <th>mean</th>\n",
       "      <th>std</th>\n",
       "      <th>min</th>\n",
       "      <th>25%</th>\n",
       "      <th>50%</th>\n",
       "      <th>75%</th>\n",
       "      <th>max</th>\n",
       "    </tr>\n",
       "  </thead>\n",
       "  <tbody>\n",
       "    <tr>\n",
       "      <th>zipcode</th>\n",
       "      <td>24235.0</td>\n",
       "      <td>18030.844564</td>\n",
       "      <td>1477.571555</td>\n",
       "      <td>15001.000000</td>\n",
       "      <td>17111.000000</td>\n",
       "      <td>18944.000000</td>\n",
       "      <td>19128.000000</td>\n",
       "      <td>19611.000000</td>\n",
       "    </tr>\n",
       "    <tr>\n",
       "      <th>latitude</th>\n",
       "      <td>24269.0</td>\n",
       "      <td>40.080788</td>\n",
       "      <td>1.637096</td>\n",
       "      <td>-12.116930</td>\n",
       "      <td>39.966766</td>\n",
       "      <td>40.130169</td>\n",
       "      <td>40.444389</td>\n",
       "      <td>61.218056</td>\n",
       "    </tr>\n",
       "    <tr>\n",
       "      <th>longitude</th>\n",
       "      <td>24269.0</td>\n",
       "      <td>-77.241598</td>\n",
       "      <td>5.817313</td>\n",
       "      <td>-149.900278</td>\n",
       "      <td>-77.008588</td>\n",
       "      <td>-75.475763</td>\n",
       "      <td>-75.185042</td>\n",
       "      <td>-11.706829</td>\n",
       "    </tr>\n",
       "    <tr>\n",
       "      <th>cemetery_dist_miles</th>\n",
       "      <td>24269.0</td>\n",
       "      <td>1.206987</td>\n",
       "      <td>0.927508</td>\n",
       "      <td>0.022214</td>\n",
       "      <td>0.818566</td>\n",
       "      <td>1.019586</td>\n",
       "      <td>1.227709</td>\n",
       "      <td>9.747778</td>\n",
       "    </tr>\n",
       "    <tr>\n",
       "      <th>nationalhighway_miles</th>\n",
       "      <td>24269.0</td>\n",
       "      <td>0.290908</td>\n",
       "      <td>0.364962</td>\n",
       "      <td>0.000027</td>\n",
       "      <td>0.143624</td>\n",
       "      <td>0.206222</td>\n",
       "      <td>0.281964</td>\n",
       "      <td>7.920969</td>\n",
       "    </tr>\n",
       "    <tr>\n",
       "      <th>railline_miles</th>\n",
       "      <td>24269.0</td>\n",
       "      <td>1.049048</td>\n",
       "      <td>1.574878</td>\n",
       "      <td>0.000248</td>\n",
       "      <td>0.465909</td>\n",
       "      <td>0.629888</td>\n",
       "      <td>0.860038</td>\n",
       "      <td>28.306430</td>\n",
       "    </tr>\n",
       "    <tr>\n",
       "      <th>starbucks_miles</th>\n",
       "      <td>24269.0</td>\n",
       "      <td>2.042534</td>\n",
       "      <td>3.205261</td>\n",
       "      <td>0.013197</td>\n",
       "      <td>0.959076</td>\n",
       "      <td>1.348776</td>\n",
       "      <td>1.789913</td>\n",
       "      <td>63.618152</td>\n",
       "    </tr>\n",
       "    <tr>\n",
       "      <th>walmart_miles</th>\n",
       "      <td>24269.0</td>\n",
       "      <td>3.528326</td>\n",
       "      <td>1.794201</td>\n",
       "      <td>0.118545</td>\n",
       "      <td>2.712467</td>\n",
       "      <td>3.326397</td>\n",
       "      <td>3.870699</td>\n",
       "      <td>26.409748</td>\n",
       "    </tr>\n",
       "    <tr>\n",
       "      <th>hospital_miles</th>\n",
       "      <td>24269.0</td>\n",
       "      <td>2.269302</td>\n",
       "      <td>2.467797</td>\n",
       "      <td>0.041096</td>\n",
       "      <td>1.160151</td>\n",
       "      <td>1.584675</td>\n",
       "      <td>2.196950</td>\n",
       "      <td>32.433629</td>\n",
       "    </tr>\n",
       "    <tr>\n",
       "      <th>physician_dist_miles</th>\n",
       "      <td>24269.0</td>\n",
       "      <td>0.352973</td>\n",
       "      <td>0.551741</td>\n",
       "      <td>0.000087</td>\n",
       "      <td>0.170974</td>\n",
       "      <td>0.229126</td>\n",
       "      <td>0.299176</td>\n",
       "      <td>14.301216</td>\n",
       "    </tr>\n",
       "    <tr>\n",
       "      <th>dentist_dist_miles</th>\n",
       "      <td>24269.0</td>\n",
       "      <td>0.712536</td>\n",
       "      <td>0.993609</td>\n",
       "      <td>0.000157</td>\n",
       "      <td>0.359750</td>\n",
       "      <td>0.472933</td>\n",
       "      <td>0.611134</td>\n",
       "      <td>19.823016</td>\n",
       "    </tr>\n",
       "    <tr>\n",
       "      <th>opt_dist_miles</th>\n",
       "      <td>24269.0</td>\n",
       "      <td>0.892396</td>\n",
       "      <td>1.092290</td>\n",
       "      <td>0.000157</td>\n",
       "      <td>0.490856</td>\n",
       "      <td>0.651244</td>\n",
       "      <td>0.853274</td>\n",
       "      <td>22.761643</td>\n",
       "    </tr>\n",
       "    <tr>\n",
       "      <th>vet_dist_miles</th>\n",
       "      <td>24269.0</td>\n",
       "      <td>12.419132</td>\n",
       "      <td>17.585042</td>\n",
       "      <td>0.013511</td>\n",
       "      <td>4.794041</td>\n",
       "      <td>7.323725</td>\n",
       "      <td>10.299977</td>\n",
       "      <td>141.184122</td>\n",
       "    </tr>\n",
       "    <tr>\n",
       "      <th>farmers_miles</th>\n",
       "      <td>24269.0</td>\n",
       "      <td>1.769471</td>\n",
       "      <td>2.204656</td>\n",
       "      <td>0.012470</td>\n",
       "      <td>0.740475</td>\n",
       "      <td>1.094678</td>\n",
       "      <td>1.703883</td>\n",
       "      <td>35.603985</td>\n",
       "    </tr>\n",
       "    <tr>\n",
       "      <th>bed</th>\n",
       "      <td>24269.0</td>\n",
       "      <td>2.766863</td>\n",
       "      <td>1.446065</td>\n",
       "      <td>1.000000</td>\n",
       "      <td>2.000000</td>\n",
       "      <td>3.000000</td>\n",
       "      <td>3.000000</td>\n",
       "      <td>18.000000</td>\n",
       "    </tr>\n",
       "    <tr>\n",
       "      <th>bath</th>\n",
       "      <td>24269.0</td>\n",
       "      <td>1.621122</td>\n",
       "      <td>0.854438</td>\n",
       "      <td>1.000000</td>\n",
       "      <td>1.000000</td>\n",
       "      <td>1.000000</td>\n",
       "      <td>2.000000</td>\n",
       "      <td>12.000000</td>\n",
       "    </tr>\n",
       "    <tr>\n",
       "      <th>halfbath</th>\n",
       "      <td>24269.0</td>\n",
       "      <td>1.026989</td>\n",
       "      <td>0.212449</td>\n",
       "      <td>1.000000</td>\n",
       "      <td>1.000000</td>\n",
       "      <td>1.000000</td>\n",
       "      <td>1.000000</td>\n",
       "      <td>12.000000</td>\n",
       "    </tr>\n",
       "    <tr>\n",
       "      <th>sqft</th>\n",
       "      <td>24269.0</td>\n",
       "      <td>1535.360625</td>\n",
       "      <td>824.447982</td>\n",
       "      <td>35.000000</td>\n",
       "      <td>1000.000000</td>\n",
       "      <td>1343.000000</td>\n",
       "      <td>1839.000000</td>\n",
       "      <td>5000.000000</td>\n",
       "    </tr>\n",
       "    <tr>\n",
       "      <th>garage</th>\n",
       "      <td>24269.0</td>\n",
       "      <td>0.291895</td>\n",
       "      <td>0.454644</td>\n",
       "      <td>0.000000</td>\n",
       "      <td>0.000000</td>\n",
       "      <td>0.000000</td>\n",
       "      <td>1.000000</td>\n",
       "      <td>1.000000</td>\n",
       "    </tr>\n",
       "    <tr>\n",
       "      <th>yearbuilt</th>\n",
       "      <td>24269.0</td>\n",
       "      <td>1958.995014</td>\n",
       "      <td>23.278187</td>\n",
       "      <td>1800.000000</td>\n",
       "      <td>1960.000000</td>\n",
       "      <td>1960.000000</td>\n",
       "      <td>1960.000000</td>\n",
       "      <td>2016.000000</td>\n",
       "    </tr>\n",
       "    <tr>\n",
       "      <th>pool</th>\n",
       "      <td>24269.0</td>\n",
       "      <td>0.011455</td>\n",
       "      <td>0.106415</td>\n",
       "      <td>0.000000</td>\n",
       "      <td>0.000000</td>\n",
       "      <td>0.000000</td>\n",
       "      <td>0.000000</td>\n",
       "      <td>1.000000</td>\n",
       "    </tr>\n",
       "    <tr>\n",
       "      <th>fireplace</th>\n",
       "      <td>24269.0</td>\n",
       "      <td>0.206972</td>\n",
       "      <td>0.405144</td>\n",
       "      <td>0.000000</td>\n",
       "      <td>0.000000</td>\n",
       "      <td>0.000000</td>\n",
       "      <td>0.000000</td>\n",
       "      <td>1.000000</td>\n",
       "    </tr>\n",
       "    <tr>\n",
       "      <th>patio</th>\n",
       "      <td>24269.0</td>\n",
       "      <td>0.197948</td>\n",
       "      <td>0.398461</td>\n",
       "      <td>0.000000</td>\n",
       "      <td>0.000000</td>\n",
       "      <td>0.000000</td>\n",
       "      <td>0.000000</td>\n",
       "      <td>1.000000</td>\n",
       "    </tr>\n",
       "    <tr>\n",
       "      <th>lotsize</th>\n",
       "      <td>24269.0</td>\n",
       "      <td>3669.835108</td>\n",
       "      <td>3185.150540</td>\n",
       "      <td>1.000000</td>\n",
       "      <td>1712.000000</td>\n",
       "      <td>2872.730796</td>\n",
       "      <td>4266.189119</td>\n",
       "      <td>19341.000000</td>\n",
       "    </tr>\n",
       "    <tr>\n",
       "      <th>Census_MedianIncome</th>\n",
       "      <td>24269.0</td>\n",
       "      <td>57016.945681</td>\n",
       "      <td>23918.805643</td>\n",
       "      <td>0.000000</td>\n",
       "      <td>40817.450000</td>\n",
       "      <td>54476.090000</td>\n",
       "      <td>70379.790000</td>\n",
       "      <td>198425.570000</td>\n",
       "    </tr>\n",
       "    <tr>\n",
       "      <th>Unemployment</th>\n",
       "      <td>24269.0</td>\n",
       "      <td>5.187826</td>\n",
       "      <td>0.956070</td>\n",
       "      <td>2.970000</td>\n",
       "      <td>4.500000</td>\n",
       "      <td>5.100000</td>\n",
       "      <td>6.000000</td>\n",
       "      <td>10.000000</td>\n",
       "    </tr>\n",
       "    <tr>\n",
       "      <th>EmploymentDiversity</th>\n",
       "      <td>24269.0</td>\n",
       "      <td>3.438248</td>\n",
       "      <td>0.150563</td>\n",
       "      <td>2.350000</td>\n",
       "      <td>3.370000</td>\n",
       "      <td>3.480000</td>\n",
       "      <td>3.540000</td>\n",
       "      <td>3.670000</td>\n",
       "    </tr>\n",
       "    <tr>\n",
       "      <th>Crime_Rate</th>\n",
       "      <td>24269.0</td>\n",
       "      <td>6.394034</td>\n",
       "      <td>7.345398</td>\n",
       "      <td>0.000000</td>\n",
       "      <td>1.468825</td>\n",
       "      <td>2.400000</td>\n",
       "      <td>9.136104</td>\n",
       "      <td>39.159639</td>\n",
       "    </tr>\n",
       "    <tr>\n",
       "      <th>rent</th>\n",
       "      <td>24269.0</td>\n",
       "      <td>1599.895505</td>\n",
       "      <td>916.256058</td>\n",
       "      <td>385.000000</td>\n",
       "      <td>1000.000000</td>\n",
       "      <td>1400.000000</td>\n",
       "      <td>1895.000000</td>\n",
       "      <td>16000.000000</td>\n",
       "    </tr>\n",
       "  </tbody>\n",
       "</table>\n",
       "</div>"
      ],
      "text/plain": [
       "                         count          mean  ...           75%            max\n",
       "zipcode                24235.0  18030.844564  ...  19128.000000   19611.000000\n",
       "latitude               24269.0     40.080788  ...     40.444389      61.218056\n",
       "longitude              24269.0    -77.241598  ...    -75.185042     -11.706829\n",
       "cemetery_dist_miles    24269.0      1.206987  ...      1.227709       9.747778\n",
       "nationalhighway_miles  24269.0      0.290908  ...      0.281964       7.920969\n",
       "railline_miles         24269.0      1.049048  ...      0.860038      28.306430\n",
       "starbucks_miles        24269.0      2.042534  ...      1.789913      63.618152\n",
       "walmart_miles          24269.0      3.528326  ...      3.870699      26.409748\n",
       "hospital_miles         24269.0      2.269302  ...      2.196950      32.433629\n",
       "physician_dist_miles   24269.0      0.352973  ...      0.299176      14.301216\n",
       "dentist_dist_miles     24269.0      0.712536  ...      0.611134      19.823016\n",
       "opt_dist_miles         24269.0      0.892396  ...      0.853274      22.761643\n",
       "vet_dist_miles         24269.0     12.419132  ...     10.299977     141.184122\n",
       "farmers_miles          24269.0      1.769471  ...      1.703883      35.603985\n",
       "bed                    24269.0      2.766863  ...      3.000000      18.000000\n",
       "bath                   24269.0      1.621122  ...      2.000000      12.000000\n",
       "halfbath               24269.0      1.026989  ...      1.000000      12.000000\n",
       "sqft                   24269.0   1535.360625  ...   1839.000000    5000.000000\n",
       "garage                 24269.0      0.291895  ...      1.000000       1.000000\n",
       "yearbuilt              24269.0   1958.995014  ...   1960.000000    2016.000000\n",
       "pool                   24269.0      0.011455  ...      0.000000       1.000000\n",
       "fireplace              24269.0      0.206972  ...      0.000000       1.000000\n",
       "patio                  24269.0      0.197948  ...      0.000000       1.000000\n",
       "lotsize                24269.0   3669.835108  ...   4266.189119   19341.000000\n",
       "Census_MedianIncome    24269.0  57016.945681  ...  70379.790000  198425.570000\n",
       "Unemployment           24269.0      5.187826  ...      6.000000      10.000000\n",
       "EmploymentDiversity    24269.0      3.438248  ...      3.540000       3.670000\n",
       "Crime_Rate             24269.0      6.394034  ...      9.136104      39.159639\n",
       "rent                   24269.0   1599.895505  ...   1895.000000   16000.000000\n",
       "\n",
       "[29 rows x 8 columns]"
      ]
     },
     "execution_count": 7,
     "metadata": {
      "tags": []
     },
     "output_type": "execute_result"
    }
   ],
   "source": [
    "train_data.describe().T"
   ]
  },
  {
   "cell_type": "code",
   "execution_count": 8,
   "metadata": {
    "id": "z-HqWrbHpnLq"
   },
   "outputs": [],
   "source": [
    "#Many Numerical features are at different scale\n",
    "#Number of beds ranging from 1-18\n",
    "#Area range 35-5000\n",
    "#garage mostly 0\n",
    "#year built----25% house before 1960, 50% with 1960 and rest 25% > 1960 and max is 2016\n",
    "#With Pool is very rare\n",
    "#fireplace is very rare\n",
    "#patio very rare\n",
    "#Lot size min value is very less compared to 25th percentile\n",
    "#Census_MedianIncome min value is very less compared to 25th percentile\n",
    "#for Rent big gap between 75th percentile and max value\n",
    "#Zipcode, year build should not be in numeric list\n",
    "#Feature Eng--bed, bath, halfbath"
   ]
  },
  {
   "cell_type": "code",
   "execution_count": 9,
   "metadata": {
    "colab": {
     "base_uri": "https://localhost:8080/",
     "height": 350
    },
    "id": "RXKkG-XIySdc",
    "outputId": "f18e465c-1772-4762-deb4-ff5720f38fa8"
   },
   "outputs": [
    {
     "data": {
      "text/plain": [
       "(array([1.8568e+04, 4.8710e+03, 6.1500e+02, 1.2100e+02, 5.1000e+01,\n",
       "        2.2000e+01, 1.1000e+01, 6.0000e+00, 1.0000e+00, 3.0000e+00]),\n",
       " array([  385. ,  1946.5,  3508. ,  5069.5,  6631. ,  8192.5,  9754. ,\n",
       "        11315.5, 12877. , 14438.5, 16000. ]),\n",
       " <a list of 10 Patch objects>)"
      ]
     },
     "execution_count": 9,
     "metadata": {
      "tags": []
     },
     "output_type": "execute_result"
    },
    {
     "data": {
      "image/png": "[encoded data removed]",
      "text/plain": [
       "<Figure size 432x288 with 1 Axes>"
      ]
     },
     "metadata": {
      "needs_background": "light",
      "tags": []
     },
     "output_type": "display_data"
    }
   ],
   "source": [
    "plt.hist(train_data['rent'])"
   ]
  },
  {
   "cell_type": "code",
   "execution_count": 10,
   "metadata": {
    "colab": {
     "base_uri": "https://localhost:8080/",
     "height": 173
    },
    "id": "fV2n8y108Sh2",
    "outputId": "9c0b96aa-465a-4f65-b388-5083820259e0"
   },
   "outputs": [
    {
     "data": {
      "text/html": [
       "<div>\n",
       "<style scoped>\n",
       "    .dataframe tbody tr th:only-of-type {\n",
       "        vertical-align: middle;\n",
       "    }\n",
       "\n",
       "    .dataframe tbody tr th {\n",
       "        vertical-align: top;\n",
       "    }\n",
       "\n",
       "    .dataframe thead th {\n",
       "        text-align: right;\n",
       "    }\n",
       "</style>\n",
       "<table border=\"1\" class=\"dataframe\">\n",
       "  <thead>\n",
       "    <tr style=\"text-align: right;\">\n",
       "      <th></th>\n",
       "      <th>column_name</th>\n",
       "      <th>percent_missing</th>\n",
       "    </tr>\n",
       "  </thead>\n",
       "  <tbody>\n",
       "    <tr>\n",
       "      <th>county</th>\n",
       "      <td>county</td>\n",
       "      <td>0.140096</td>\n",
       "    </tr>\n",
       "    <tr>\n",
       "      <th>zipcode</th>\n",
       "      <td>zipcode</td>\n",
       "      <td>0.140096</td>\n",
       "    </tr>\n",
       "    <tr>\n",
       "      <th>address</th>\n",
       "      <td>address</td>\n",
       "      <td>3.922700</td>\n",
       "    </tr>\n",
       "    <tr>\n",
       "      <th>property_type</th>\n",
       "      <td>property_type</td>\n",
       "      <td>14.940871</td>\n",
       "    </tr>\n",
       "  </tbody>\n",
       "</table>\n",
       "</div>"
      ],
      "text/plain": [
       "                 column_name  percent_missing\n",
       "county                county         0.140096\n",
       "zipcode              zipcode         0.140096\n",
       "address              address         3.922700\n",
       "property_type  property_type        14.940871"
      ]
     },
     "execution_count": 10,
     "metadata": {
      "tags": []
     },
     "output_type": "execute_result"
    }
   ],
   "source": [
    "#Analyze columns with missing values\n",
    "percent_missing = train_data.isnull().sum() * 100 / len(train_data)\n",
    "missing_value_df = pd.DataFrame({'column_name': train_data.columns,\n",
    "                                 'percent_missing': percent_missing})\n",
    "missing_value_df[missing_value_df['percent_missing'] > 0].head(100)"
   ]
  },
  {
   "cell_type": "markdown",
   "metadata": {
    "id": "zCwQ3mwokcdW"
   },
   "source": [
    "**Define Master Data**"
   ]
  },
  {
   "cell_type": "code",
   "execution_count": 11,
   "metadata": {
    "id": "wF6EJczXkhzr"
   },
   "outputs": [],
   "source": [
    "#Get mode for columns having missing values, will be used for test data as well\n",
    "impute_county = train_data['county'].mode().values[0]\n",
    "impute_zipcode = train_data['zipcode'].mode().values[0]\n",
    "impute_property_type = train_data['property_type'].mode().values[0]\n",
    "#Define list of columns for standardscaler\n",
    "exlude_columns = ['zipcode', 'yearbuilt', 'bed', 'bath', 'halfbath', 'garage', 'pool', 'fireplace', 'patio', 'rent']\n",
    "columns_for_std = list(set(train_data.select_dtypes(include=['int64', 'float64']).columns) - set(exlude_columns))\n",
    "cat_columns = train_data.select_dtypes(include=[object]).columns\n",
    "#Standardization\n",
    "scale = StandardScaler()\n",
    "scale.fit(train_data[columns_for_std])\n",
    "#Create dictionary for zip code\n",
    "dict_zip_code = {}\n",
    "for idx, zc in enumerate(train_data['zipcode'].unique()):\n",
    "  dict_zip_code[zc] = idx\n",
    "#Create dictionary for city\n",
    "dict_city = {}\n",
    "for idx, city in enumerate(train_data['city'].unique()):\n",
    "  dict_city[city] = idx\n",
    "#Create dictionary for county\n",
    "dict_county = {}\n",
    "for idx, county in enumerate(train_data['county'].unique()):\n",
    "  dict_county[county] = idx\n",
    "#Default value\n",
    "default_zipcode = dict_zip_code[train_data['zipcode'].mode()[0]]\n",
    "default_city = dict_city[train_data['city'].mode()[0]]"
   ]
  },
  {
   "cell_type": "markdown",
   "metadata": {
    "id": "UF7REbMF5Yhb"
   },
   "source": [
    "**Pre Processing**"
   ]
  },
  {
   "cell_type": "code",
   "execution_count": 12,
   "metadata": {
    "id": "18AR_33T5c76"
   },
   "outputs": [],
   "source": [
    "def preprocessing(data):\n",
    "    \"\"\"Function to preprocess the data\"\"\"\n",
    "    #Change Data type for zip code\n",
    "    convert_dict = {'zipcode':'object'}\n",
    "    data = data.astype(convert_dict)\n",
    "\n",
    "    #Missing value imputation\n",
    "    data.county = data.county.fillna(impute_county)\n",
    "    data.zipcode = data.zipcode.fillna(impute_zipcode)\n",
    "    data.property_type = data.property_type.fillna(impute_property_type)\n",
    "    \n",
    "    #Transform numeric columns\n",
    "    transformed_data = pd.DataFrame(data=scale.transform(data[columns_for_std]), columns=columns_for_std)\n",
    "\n",
    "    #Get remaining column\n",
    "    remaining_columns = exlude_columns\n",
    "    for col in cat_columns:\n",
    "      remaining_columns.append(col)\n",
    "    remaining_data = data[list(set(remaining_columns))]\n",
    "    \n",
    "    #Merge both data\n",
    "    transformed_data.reset_index(drop=True, inplace=True)\n",
    "    remaining_data.reset_index(drop=True, inplace=True)\n",
    "    all_data = pd.concat([transformed_data, remaining_data], axis=1)\n",
    "    return all_data"
   ]
  },
  {
   "cell_type": "markdown",
   "metadata": {
    "id": "VVhGmngKfd0P"
   },
   "source": [
    "**Feature selection**"
   ]
  },
  {
   "cell_type": "code",
   "execution_count": 13,
   "metadata": {
    "id": "ezoJNWWCeTnh"
   },
   "outputs": [],
   "source": [
    "#Step1\n",
    "#Check if redundant features present\n",
    "def get_redundant_features(preprocessed_data, thrld):\n",
    "  df_corr = preprocessed_data[preprocessed_data.select_dtypes(include=['int64', 'float64']).columns].corr()\n",
    "  for index, row in df_corr.iterrows():\n",
    "    correlated_indices = []\n",
    "    for idx, val in enumerate(row):\n",
    "      if val > thrld:\n",
    "        correlated_indices.append(idx)\n",
    "    correlated_columns = df_corr.columns[correlated_indices]\n",
    "    if len(correlated_columns) > 1:\n",
    "      print('Feature: {} is correlated with-- {}'.format(index, correlated_columns))"
   ]
  },
  {
   "cell_type": "code",
   "execution_count": 14,
   "metadata": {
    "colab": {
     "base_uri": "https://localhost:8080/"
    },
    "id": "-Lk0QG2KgsJy",
    "outputId": "aa932851-f89c-4260-9d21-a395d96ef0b6"
   },
   "outputs": [
    {
     "name": "stdout",
     "output_type": "stream",
     "text": [
      "Feature: dentist_dist_miles is correlated with-- Index(['dentist_dist_miles', 'opt_dist_miles'], dtype='object')\n",
      "Feature: opt_dist_miles is correlated with-- Index(['dentist_dist_miles', 'opt_dist_miles'], dtype='object')\n"
     ]
    }
   ],
   "source": [
    "get_redundant_features(train_data, .8)"
   ]
  },
  {
   "cell_type": "code",
   "execution_count": 15,
   "metadata": {
    "id": "JiNq5mXli-fi"
   },
   "outputs": [],
   "source": [
    "#Above two features are highly correlated so we will select any one from them\n",
    "exclude_list = ['dentist_dist_miles']"
   ]
  },
  {
   "cell_type": "markdown",
   "metadata": {
    "id": "ISYjV7SapqD-"
   },
   "source": [
    "**Feature Engineering**"
   ]
  },
  {
   "cell_type": "code",
   "execution_count": 16,
   "metadata": {
    "id": "H5qtFd3TrkDJ"
   },
   "outputs": [],
   "source": [
    "def plot_data(data, col, stat_type, plot_type='line'):\n",
    "  '''Plot feature and target stat'''\n",
    "  if stat_type == 'count':\n",
    "    grp_data = data.groupby(col, as_index=False)['rent'].count()\n",
    "  else:\n",
    "    grp_data = data.groupby(col, as_index=False)['rent'].mean()\n",
    "  if plot_type == 'line':\n",
    "    plt.plot(grp_data[col], grp_data['rent'])\n",
    "  else:\n",
    "    plt.bar(grp_data[col], grp_data['rent'])\n",
    "  plt.xlabel(col)\n",
    "  if stat_type == 'count':\n",
    "    plt.ylabel('count')\n",
    "  else:\n",
    "    plt.ylabel('Average Rent')"
   ]
  },
  {
   "cell_type": "code",
   "execution_count": 18,
   "metadata": {
    "colab": {
     "base_uri": "https://localhost:8080/",
     "height": 279
    },
    "id": "u9HXEvULnWdp",
    "outputId": "90fb68e4-5c56-43f2-c40a-6e600a2b7ff2"
   },
   "outputs": [
    {
     "data": {
      "image/png": "[encoded data removed]",
      "text/plain": [
       "<Figure size 432x288 with 1 Axes>"
      ]
     },
     "metadata": {
      "needs_background": "light",
      "tags": []
     },
     "output_type": "display_data"
    }
   ],
   "source": [
    "preprocessed_data = preprocessing(train_data)\n",
    "plot_data(preprocessed_data, 'yearbuilt', 'count')"
   ]
  },
  {
   "cell_type": "code",
   "execution_count": 19,
   "metadata": {
    "colab": {
     "base_uri": "https://localhost:8080/",
     "height": 279
    },
    "id": "tSszuI2mox0u",
    "outputId": "000f158f-8c49-442a-a3d2-a4d4a7864f48"
   },
   "outputs": [
    {
     "data": {
      "image/png": "[encoded data removed]",
      "text/plain": [
       "<Figure size 432x288 with 1 Axes>"
      ]
     },
     "metadata": {
      "needs_background": "light",
      "tags": []
     },
     "output_type": "display_data"
    }
   ],
   "source": [
    "plot_data(preprocessed_data, 'yearbuilt', 'mean')"
   ]
  },
  {
   "cell_type": "markdown",
   "metadata": {
    "id": "uefUv96vuNlu"
   },
   "source": [
    "it seems home built before 1900 have higher rent (will add new feature on year built range)"
   ]
  },
  {
   "cell_type": "code",
   "execution_count": 20,
   "metadata": {
    "colab": {
     "base_uri": "https://localhost:8080/",
     "height": 279
    },
    "id": "WhZr7O1gu8sJ",
    "outputId": "85080694-911d-4cb8-d5ba-592c7ea79980"
   },
   "outputs": [
    {
     "data": {
      "image/png": "[encoded data removed]",
      "text/plain": [
       "<Figure size 432x288 with 1 Axes>"
      ]
     },
     "metadata": {
      "needs_background": "light",
      "tags": []
     },
     "output_type": "display_data"
    }
   ],
   "source": [
    "plot_data(preprocessed_data, 'bed', 'mean')"
   ]
  },
  {
   "cell_type": "code",
   "execution_count": 21,
   "metadata": {
    "colab": {
     "base_uri": "https://localhost:8080/",
     "height": 279
    },
    "id": "q1bBpzayvAGA",
    "outputId": "673ccdd4-3d35-4b7d-b31b-ee332424f30d"
   },
   "outputs": [
    {
     "data": {
      "image/png": "[encoded data removed]",
      "text/plain": [
       "<Figure size 432x288 with 1 Axes>"
      ]
     },
     "metadata": {
      "needs_background": "light",
      "tags": []
     },
     "output_type": "display_data"
    }
   ],
   "source": [
    "plot_data(preprocessed_data, 'bath', 'mean')"
   ]
  },
  {
   "cell_type": "markdown",
   "metadata": {
    "id": "2mu9auEzwHKo"
   },
   "source": [
    "Average rent have different trend for 0-7, 7-10 and > 10"
   ]
  },
  {
   "cell_type": "code",
   "execution_count": 22,
   "metadata": {
    "colab": {
     "base_uri": "https://localhost:8080/",
     "height": 279
    },
    "id": "5WNmNko9vu_j",
    "outputId": "91d3d055-ee8f-4105-c49b-2e1395753a6a"
   },
   "outputs": [
    {
     "data": {
      "image/png": "[encoded data removed]",
      "text/plain": [
       "<Figure size 432x288 with 1 Axes>"
      ]
     },
     "metadata": {
      "needs_background": "light",
      "tags": []
     },
     "output_type": "display_data"
    }
   ],
   "source": [
    "plot_data(preprocessed_data, 'halfbath', 'mean')"
   ]
  },
  {
   "cell_type": "markdown",
   "metadata": {
    "id": "GeKHnVirxrlx"
   },
   "source": [
    "Average rent have different trend for 0-3, 3-7 and > 7"
   ]
  },
  {
   "cell_type": "code",
   "execution_count": 23,
   "metadata": {
    "colab": {
     "base_uri": "https://localhost:8080/",
     "height": 279
    },
    "id": "v53uxaMSwqik",
    "outputId": "c0816b14-bde9-4a2b-af13-fa6c5c8f980d"
   },
   "outputs": [
    {
     "data": {
      "image/png": "[encoded data removed]",
      "text/plain": [
       "<Figure size 432x288 with 1 Axes>"
      ]
     },
     "metadata": {
      "needs_background": "light",
      "tags": []
     },
     "output_type": "display_data"
    }
   ],
   "source": [
    "plot_data(preprocessed_data, 'garage', 'mean')"
   ]
  },
  {
   "cell_type": "code",
   "execution_count": 24,
   "metadata": {
    "colab": {
     "base_uri": "https://localhost:8080/",
     "height": 279
    },
    "id": "0TKTGCCTx_C3",
    "outputId": "3108f03b-e9f6-4a9c-bdb7-577aa9c478c7"
   },
   "outputs": [
    {
     "data": {
      "image/png": "[encoded data removed]",
      "text/plain": [
       "<Figure size 432x288 with 1 Axes>"
      ]
     },
     "metadata": {
      "needs_background": "light",
      "tags": []
     },
     "output_type": "display_data"
    }
   ],
   "source": [
    "plot_data(preprocessed_data, 'pool', 'mean')"
   ]
  },
  {
   "cell_type": "code",
   "execution_count": 25,
   "metadata": {
    "colab": {
     "base_uri": "https://localhost:8080/",
     "height": 279
    },
    "id": "_fDQ7JBLyZpT",
    "outputId": "f156bb4a-70be-48aa-acbe-7a46a4d72642"
   },
   "outputs": [
    {
     "data": {
      "image/png": "[encoded data removed]",
      "text/plain": [
       "<Figure size 432x288 with 1 Axes>"
      ]
     },
     "metadata": {
      "needs_background": "light",
      "tags": []
     },
     "output_type": "display_data"
    }
   ],
   "source": [
    "plot_data(preprocessed_data, 'fireplace', 'mean')"
   ]
  },
  {
   "cell_type": "code",
   "execution_count": 26,
   "metadata": {
    "colab": {
     "base_uri": "https://localhost:8080/",
     "height": 279
    },
    "id": "anZkKiaazuML",
    "outputId": "361a17f4-a312-4f87-b5c6-78bb33fe77f8"
   },
   "outputs": [
    {
     "data": {
      "image/png": "[encoded data removed]",
      "text/plain": [
       "<Figure size 432x288 with 1 Axes>"
      ]
     },
     "metadata": {
      "needs_background": "light",
      "tags": []
     },
     "output_type": "display_data"
    }
   ],
   "source": [
    "plot_data(preprocessed_data, 'patio', 'mean')"
   ]
  },
  {
   "cell_type": "markdown",
   "metadata": {
    "id": "a-yKdjEE2xO1"
   },
   "source": [
    "there is no mazor difference in average rent on two classes, so we can ignore this feature"
   ]
  },
  {
   "cell_type": "code",
   "execution_count": 27,
   "metadata": {
    "id": "XUr4mfxb2lsy"
   },
   "outputs": [],
   "source": [
    "class FeatureEngineering(object):\n",
    "  \"\"\"class to perform all Feature Enginerring task\"\"\"\n",
    "  def yearbuilt_range(self, x):\n",
    "    if x < 1900:\n",
    "      return 'less_1900'\n",
    "    elif x >=1900 and x <= 1960:\n",
    "      return '1900-1960'\n",
    "    else:\n",
    "      return 'grt_1960'\n",
    "  \n",
    "  def bath_range(self, x):\n",
    "    if x < 7:\n",
    "      return 'bath-less_7'\n",
    "    elif x >=7 and x <= 10:\n",
    "      return 'bath-7-10'\n",
    "    else:\n",
    "      return 'bath-grt_10'\n",
    "\n",
    "  def halfbath_range(self, x):\n",
    "    if x < 3:\n",
    "      return 'hb-less_3'\n",
    "    elif x >= 3 and x <= 7:\n",
    "      return 'hb-3-7'\n",
    "    else:\n",
    "      return 'hb-grt_7'\n",
    "\n",
    "  def add_zipcode(self, x):\n",
    "    return dict_zip_code.get(x, default_zipcode)\n",
    "\n",
    "  def add_city(self, x):\n",
    "    return dict_city.get(x, default_city)\n",
    "\n",
    "  def add_county(self, x):\n",
    "    return dict_county[x]\n",
    "\n",
    "  def add_new_features(self, data):\n",
    "    data['yearbuilt_range'] = data['yearbuilt'].apply(self.yearbuilt_range)\n",
    "    data['bath_range'] = data['bath'].apply(self.bath_range)\n",
    "    data['halfbath_range'] = data['halfbath'].apply(self.halfbath_range)\n",
    "    data['zipcode'] = data['zipcode'].apply(self.add_zipcode)\n",
    "    data['city'] = data['city'].apply(self.add_city)\n",
    "    data['county'] = data['county'].apply(self.add_county)\n",
    "    #Create dummies\n",
    "    df_property_type = pd.get_dummies(data['property_type'])\n",
    "    df_yearbuilt_range = pd.get_dummies(data['yearbuilt_range'])\n",
    "    df_bath_range = pd.get_dummies(data['bath_range'])\n",
    "    df_halfbath_range = pd.get_dummies(data['halfbath_range'])\n",
    "\n",
    "    #Merge All data\n",
    "    data.reset_index(drop=True, inplace=True)\n",
    "    df_property_type.reset_index(drop=True, inplace=True)\n",
    "    df_yearbuilt_range.reset_index(drop=True, inplace=True)\n",
    "    df_bath_range.reset_index(drop=True, inplace=True)\n",
    "    df_halfbath_range.reset_index(drop=True, inplace=True)\n",
    "    engg_data = pd.concat([data, df_property_type, df_yearbuilt_range, df_bath_range, df_halfbath_range], axis=1)\n",
    "    return engg_data"
   ]
  },
  {
   "cell_type": "markdown",
   "metadata": {
    "id": "JZ_L1zngK2kE"
   },
   "source": [
    "**DataPrep**"
   ]
  },
  {
   "cell_type": "code",
   "execution_count": 28,
   "metadata": {
    "id": "L4RQBgmvKrhs"
   },
   "outputs": [],
   "source": [
    "#dentist_dist_miles, patio, state\n",
    "#constant value for state\n",
    "def get_training_data(data):\n",
    "  \"\"\"Define traing and validation data\"\"\"\n",
    "  preprocessed_data = preprocessing(data)\n",
    "  feat_engg = FeatureEngineering()\n",
    "  engg_data = feat_engg.add_new_features(preprocessed_data)\n",
    "  engg_data = engg_data.sample(frac=1)\n",
    "  train, test = train_test_split(engg_data, test_size=0.2)\n",
    "\n",
    "  FEATURE_COLUMNS = ['Census_MedianIncome', 'starbucks_miles', 'sqft', 'hospital_miles', 'railline_miles', 'opt_dist_miles', 'walmart_miles', \n",
    "                   'Unemployment', 'physician_dist_miles', 'lotsize', 'longitude', 'farmers_miles','Crime_Rate', 'EmploymentDiversity', \n",
    "                   'nationalhighway_miles', 'cemetery_dist_miles', 'latitude',\n",
    "                    'vet_dist_miles', 'bed', 'city', 'zipcode', 'pool', 'garage', 'fireplace','county', 'Condo', 'Duplex', 'Quadplex',\n",
    "                    'SFR', 'Triplex', '1900-1960', 'less_1900', 'grt_1960', 'bath-7-10', 'bath-less_7',\n",
    "                    'bath-grt_10', 'hb-3-7', 'hb-less_3', 'hb-grt_7']\n",
    "  train_x = train[FEATURE_COLUMNS]\n",
    "  train_y = train['rent']\n",
    "  test_x = test[FEATURE_COLUMNS]\n",
    "  test_y = test['rent']\n",
    "  return train_x, train_y, test_x, test_y"
   ]
  },
  {
   "cell_type": "markdown",
   "metadata": {
    "id": "OEQNi5Bf-VQD"
   },
   "source": [
    "**Model**"
   ]
  },
  {
   "cell_type": "code",
   "execution_count": 167,
   "metadata": {
    "id": "uDJ7AxABMVnb"
   },
   "outputs": [],
   "source": [
    "class MyModel(object):\n",
    "  \"\"\" class for all models\"\"\"\n",
    "  def dnn(self):\n",
    "    inputs = tf.keras.layers.Input(shape=39)\n",
    "    x = tf.keras.layers.Dense(64, activation='relu')(inputs)\n",
    "    x = tf.keras.layers.Dropout(0.2)(x)\n",
    "    x = tf.keras.layers.Dense(128, activation='relu')(x)\n",
    "    x = tf.keras.layers.Dropout(0.2)(x)\n",
    "    out = tf.keras.layers.Dense(1)(x)\n",
    "    model = tf.keras.models.Model(inputs=inputs, outputs=out)\n",
    "    model.compile(optimizer=tf.keras.optimizers.RMSprop(), loss='mse', metrics=['mse'])\n",
    "    return model\n",
    "\n",
    "  def xgb(self):\n",
    "    xgb = xgboost.XGBRegressor(n_estimators=300, max_depth=6, subsample=0.8, colsample_bytree=0.7)\n",
    "    return xgb\n",
    "\n",
    "  def lr(self):\n",
    "    lr = LinearRegression()\n",
    "    return lr\n",
    "  def rf(self):\n",
    "    rf = RandomForestRegressor(n_estimators=50, max_samples=.5, max_features=10)\n",
    "    return rf\n",
    "  def knn(self):\n",
    "    knn = KNeighborsRegressor()\n",
    "    return knn\n",
    "MyModel = MyModel()"
   ]
  },
  {
   "cell_type": "markdown",
   "metadata": {
    "id": "blaA-6QY_68V"
   },
   "source": [
    "**Train**"
   ]
  },
  {
   "cell_type": "code",
   "execution_count": 168,
   "metadata": {
    "id": "RoOEqzt1eYz3"
   },
   "outputs": [],
   "source": [
    "class TrainAndEvaluate(object):\n",
    "  \"\"\"class for training and evaluation of model\"\"\"\n",
    "  def evaluate(self, model, test_x, test_y):\n",
    "    \"\"\"function for model evaluation\"\"\"\n",
    "    prediction = model.predict(test_x)\n",
    "    rmse = mean_squared_error(test_y, prediction, squared=False)\n",
    "    r2_scr = r2_score(test_y, prediction)\n",
    "    return rmse, r2_scr\n",
    "  \n",
    "  def train_and_evaluate(self, train_x, train_y, test_x, test_y):\n",
    "    \"\"\"function for model training\"\"\"\n",
    "    rmse_eval = {}\n",
    "    r2_eval = {}\n",
    "    #Train xgb Model\n",
    "    xgb_model = MyModel.xgb()\n",
    "    xgb_model.fit(train_x, train_y)\n",
    "    rmse, r2_scr = self.evaluate(xgb_model, test_x, test_y)\n",
    "    rmse_eval['xgb'] = rmse\n",
    "    r2_eval['xgb'] = r2_scr\n",
    "    #Train Linear Regression\n",
    "    lr_model = MyModel.lr()\n",
    "    lr_model.fit(train_x, train_y)\n",
    "    rmse, r2_scr = self.evaluate(lr_model, test_x, test_y)\n",
    "    rmse_eval['lr'] = rmse\n",
    "    r2_eval['lr'] = r2_scr\n",
    "    #Train Random Forest\n",
    "    rf_model = MyModel.rf()\n",
    "    rf_model.fit(train_x, train_y)\n",
    "    rmse, r2_scr = self.evaluate(rf_model, test_x, test_y)\n",
    "    rmse_eval['rf'] = rmse\n",
    "    r2_eval['rf'] = r2_scr\n",
    "    #Train KNN\n",
    "    knn_model = MyModel.knn()\n",
    "    knn_model.fit(train_x, train_y)\n",
    "    rmse, r2_scr = self.evaluate(knn_model, test_x, test_y)\n",
    "    rmse_eval['knn'] = rmse\n",
    "    r2_eval['knn'] = r2_scr\n",
    "    #Train DNN\n",
    "    dnn_model = MyModel.dnn()\n",
    "    dnn_model.fit(train_x, train_y, epochs=50, verbose=0)\n",
    "    rmse, r2_scr = self.evaluate(dnn_model, test_x, test_y)\n",
    "    rmse_eval['dnn'] = rmse\n",
    "    r2_eval['dnn'] = r2_scr\n",
    "    return rmse_eval, r2_eval, xgb_model, lr_model, rf_model, knn_model, dnn_model\n",
    "train_and_evaluate = TrainAndEvaluate()"
   ]
  },
  {
   "cell_type": "code",
   "execution_count": 169,
   "metadata": {
    "colab": {
     "base_uri": "https://localhost:8080/"
    },
    "id": "B902nQfGJpiF",
    "outputId": "fdc50be7-160a-49ce-9c03-e119c9ebc915"
   },
   "outputs": [
    {
     "name": "stdout",
     "output_type": "stream",
     "text": [
      "[15:25:52] WARNING: /workspace/src/objective/regression_obj.cu:152: reg:linear is now deprecated in favor of reg:squarederror.\n",
      "Root Mean Squared Error: {'xgb': 376.941412178043, 'lr': 616.5583410574995, 'rf': 430.7489499312025, 'knn': 523.9444605038062, 'dnn': 603.58455441859}\n",
      "R2 Score: {'xgb': 0.8534782167321052, 'lr': 0.6079848565542959, 'rf': 0.8086612449192347, 'knn': 0.7169096956932153, 'dnn': 0.6243090576471974}\n"
     ]
    }
   ],
   "source": [
    "train_x, train_y, test_x, test_y = get_training_data(train_data)\n",
    "rmse_eval, r2_eval, xgb_model, lr_model, rf_model, knn_model, dnn_model = train_and_evaluate.train_and_evaluate(train_x, train_y, test_x, test_y)\n",
    "print(\"Root Mean Squared Error:\", rmse_eval)\n",
    "print(\"R2 Score:\", r2_eval)"
   ]
  },
  {
   "cell_type": "code",
   "execution_count": 170,
   "metadata": {
    "colab": {
     "base_uri": "https://localhost:8080/",
     "height": 405
    },
    "id": "EEVdB7zkW8t3",
    "outputId": "ee91e3a7-f572-4650-f2bf-ef764544d3f8"
   },
   "outputs": [
    {
     "data": {
      "text/plain": [
       "Text(0, 0.5, 'RMSE')"
      ]
     },
     "execution_count": 170,
     "metadata": {
      "tags": []
     },
     "output_type": "execute_result"
    },
    {
     "data": {
      "image/png": "[encoded data removed]",
      "text/plain": [
       "<Figure size 720x432 with 1 Axes>"
      ]
     },
     "metadata": {
      "needs_background": "light",
      "tags": []
     },
     "output_type": "display_data"
    }
   ],
   "source": [
    "plt.figure(figsize=(10,6))\n",
    "plt.bar(rmse_eval.keys(), rmse_eval.values())\n",
    "plt.xlabel(\"Model\")\n",
    "plt.ylabel(\"RMSE\")"
   ]
  },
  {
   "cell_type": "code",
   "execution_count": 171,
   "metadata": {
    "colab": {
     "base_uri": "https://localhost:8080/",
     "height": 405
    },
    "id": "Xzy3f8JYaSzo",
    "outputId": "62c74d42-510f-4520-b972-0353c4d7ec71"
   },
   "outputs": [
    {
     "data": {
      "text/plain": [
       "Text(0, 0.5, 'R2 Score')"
      ]
     },
     "execution_count": 171,
     "metadata": {
      "tags": []
     },
     "output_type": "execute_result"
    },
    {
     "data": {
      "image/png": "[encoded data removed]",
      "text/plain": [
       "<Figure size 720x432 with 1 Axes>"
      ]
     },
     "metadata": {
      "needs_background": "light",
      "tags": []
     },
     "output_type": "display_data"
    }
   ],
   "source": [
    "plt.figure(figsize=(10,6))\n",
    "plt.bar(r2_eval.keys(), r2_eval.values())\n",
    "plt.xlabel(\"Model\")\n",
    "plt.ylabel(\"R2 Score\")"
   ]
  },
  {
   "cell_type": "code",
   "execution_count": 172,
   "metadata": {
    "colab": {
     "base_uri": "https://localhost:8080/"
    },
    "id": "fgskKRdVafJr",
    "outputId": "97520868-ab49-427e-9037-4510bc42de6a"
   },
   "outputs": [
    {
     "name": "stdout",
     "output_type": "stream",
     "text": [
      "XGBoost performed best\n",
      "================\n",
      "Training Metrics\n",
      "RMSE: 236.98868135241852 R2Score: 0.9303786089719444\n",
      "================\n",
      "Testing Metrics\n",
      "RMSE: 376.941412178043 R2Score: 0.8534782167321052\n"
     ]
    }
   ],
   "source": [
    "print(\"XGBoost performed best\")\n",
    "print(\"================\")\n",
    "print(\"Training Metrics\")\n",
    "print(\"RMSE: {} R2Score: {}\".format(mean_squared_error(train_y, xgb_model.predict(train_x), squared=False), \n",
    "                                    r2_score(train_y, xgb_model.predict(train_x))))\n",
    "print(\"================\")\n",
    "print(\"Testing Metrics\")\n",
    "print(\"RMSE: {} R2Score: {}\".format(mean_squared_error(test_y, xgb_model.predict(test_x), squared=False), \n",
    "                                    r2_score(test_y, xgb_model.predict(test_x))))"
   ]
  },
  {
   "cell_type": "markdown",
   "metadata": {
    "id": "8KnyEfhEOi32"
   },
   "source": [
    "**Prediction**"
   ]
  },
  {
   "cell_type": "code",
   "execution_count": 176,
   "metadata": {
    "id": "wuOdRyYyMBpw"
   },
   "outputs": [],
   "source": [
    "test_data = pd.read_csv('/content/test.csv')\n",
    "test_data['rent'] = 0\n",
    "all_ids = test_data['id'].values"
   ]
  },
  {
   "cell_type": "code",
   "execution_count": 177,
   "metadata": {
    "id": "BGkICE3APAVr"
   },
   "outputs": [],
   "source": [
    "def get_testing_data(data):\n",
    "  preprocessed_data = preprocessing(data)\n",
    "  feat_engg = FeatureEngineering()\n",
    "  engg_data = feat_engg.add_new_features(preprocessed_data)\n",
    "  FEATURE_COLUMNS = ['Census_MedianIncome', 'starbucks_miles', 'sqft', 'hospital_miles', 'railline_miles', 'opt_dist_miles', 'walmart_miles', \n",
    "                   'Unemployment', 'physician_dist_miles', 'lotsize', 'longitude', 'farmers_miles','Crime_Rate', 'EmploymentDiversity', \n",
    "                   'nationalhighway_miles', 'cemetery_dist_miles', 'latitude',\n",
    "                    'vet_dist_miles', 'bed', 'city', 'zipcode', 'pool', 'garage', 'fireplace','county', 'Condo', 'Duplex', 'Quadplex',\n",
    "                    'SFR', 'Triplex', '1900-1960', 'less_1900', 'grt_1960', 'bath-7-10', 'bath-less_7',\n",
    "                    'bath-grt_10', 'hb-3-7', 'hb-less_3', 'hb-grt_7']\n",
    "  missing_columns = set(FEATURE_COLUMNS) - set(engg_data.columns)\n",
    "  for col in missing_columns:\n",
    "    engg_data[col] = 0\n",
    "  pred_x = engg_data[FEATURE_COLUMNS]\n",
    "  return pred_x"
   ]
  },
  {
   "cell_type": "code",
   "execution_count": 178,
   "metadata": {
    "id": "Q8cEv1AMRXHp"
   },
   "outputs": [],
   "source": [
    "pred_x = get_testing_data(test_data)\n",
    "rent_predictions = xgb_model.predict(pred_x)\n",
    "submission_df = pd.DataFrame(data=all_ids, columns=['id'])\n",
    "submission_df['rent'] = rent_predictions\n",
    "submission_df = submission_df.astype({'rent':int})\n",
    "submission_df.to_csv(\"submission.csv\", index=False)"
   ]
  },
  {
   "cell_type": "code",
   "execution_count": null,
   "metadata": {
    "id": "r3iyHkoG7v6t"
   },
   "outputs": [],
   "source": []
  }
 ],
 "metadata": {
  "colab": {
   "name": "abzooba_hackerrank_test.ipynb",
   "provenance": []
  },
  "kernelspec": {
   "display_name": "Python 3",
   "language": "python",
   "name": "python3"
  },
  "language_info": {
   "codemirror_mode": {
    "name": "ipython",
    "version": 3
   },
   "file_extension": ".py",
   "mimetype": "text/x-python",
   "name": "python",
   "nbconvert_exporter": "python",
   "pygments_lexer": "ipython3",
   "version": "3.9.5"
  }
 },
 "nbformat": 4,
 "nbformat_minor": 1
}
