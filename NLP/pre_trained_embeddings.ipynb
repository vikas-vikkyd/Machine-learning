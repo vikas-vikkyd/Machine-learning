{
  "nbformat": 4,
  "nbformat_minor": 0,
  "metadata": {
    "colab": {
      "name": "pre_trained_embeddings.ipynb",
      "provenance": []
    },
    "kernelspec": {
      "name": "python3",
      "display_name": "Python 3"
    },
    "accelerator": "GPU"
  },
  "cells": [
    {
      "cell_type": "code",
      "metadata": {
        "id": "LZsAlfDxH18R",
        "colab": {
          "base_uri": "https://localhost:8080/",
          "height": 459
        },
        "outputId": "162c2fa7-51f6-4fcb-ab8f-d624d2e3a5b9"
      },
      "source": [
        "#Import required library\n",
        "import tensorflow as tf\n",
        "import pathlib\n",
        "from tensorflow.keras.preprocessing.text import Tokenizer\n",
        "from tensorflow.keras.preprocessing.sequence import pad_sequences\n",
        "import numpy as np\n",
        "import io\n",
        "import matplotlib.pyplot as plt\n",
        "#Get training File\n",
        "dataset_url = 'https://storage.googleapis.com/laurencemoroney-blog.appspot.com/bbc-text.csv'\n",
        "data_dir = tf.keras.utils.get_file('bbc-text-new.csv', origin=dataset_url )\n",
        "data_dir = pathlib.Path(data_dir)\n",
        "\n",
        "#Read file\n",
        "sentences = []\n",
        "labels = []\n",
        "stopwords = [\"a\", \"about\", \"above\", \"after\", \"again\", \"against\", \"all\", \"am\", \"an\", \"and\", \"any\", \"are\", \"as\", \"at\",\n",
        "              \"be\", \"because\", \"been\", \"before\", \"being\", \"below\", \"between\", \"both\", \"but\", \"by\", \"could\", \"did\", \"do\",\n",
        "              \"does\", \"doing\", \"down\", \"during\", \"each\", \"few\", \"for\", \"from\", \"further\", \"had\", \"has\", \"have\", \"having\",\n",
        "              \"he\", \"he'd\", \"he'll\", \"he's\", \"her\", \"here\", \"here's\", \"hers\", \"herself\", \"him\", \"himself\", \"his\", \"how\", \"how's\",\n",
        "              \"i\", \"i'd\", \"i'll\", \"i'm\", \"i've\", \"if\", \"in\", \"into\", \"is\", \"it\", \"it's\", \"its\", \"itself\", \"let's\", \"me\", \"more\", \"most\", \"my\",\n",
        "              \"myself\", \"nor\", \"of\", \"on\", \"once\", \"only\", \"or\", \"other\", \"ought\", \"our\", \"ours\", \"ourselves\", \"out\", \"over\", \"own\", \"same\",\n",
        "              \"she\", \"she'd\", \"she'll\", \"she's\", \"should\", \"so\", \"some\", \"such\", \"than\", \"that\", \"that's\", \"the\", \"their\", \"theirs\", \"them\",\n",
        "              \"themselves\", \"then\", \"there\", \"there's\", \"these\", \"they\", \"they'd\", \"they'll\", \"they're\", \"they've\", \"this\", \"those\", \"through\",\n",
        "              \"to\", \"too\", \"under\", \"until\", \"up\", \"very\", \"was\", \"we\", \"we'd\", \"we'll\", \"we're\", \"we've\", \"were\", \"what\", \"what's\", \"when\",\n",
        "              \"when's\", \"where\", \"where's\", \"which\", \"while\", \"who\", \"who's\", \"whom\", \"why\", \"why's\", \"with\", \"would\", \"you\", \"you'd\", \"you'll\",\n",
        "              \"you're\", \"you've\", \"your\", \"yours\", \"yourself\", \"yourselves\"]\n",
        "with open(data_dir, 'r') as file:\n",
        "    i = 0\n",
        "    for line in file:\n",
        "        if i == 0:\n",
        "            i = i + 1\n",
        "        else:\n",
        "            line = line.replace('\\n', '')\n",
        "            labels.append(line.split(',')[0])\n",
        "            arr = line.split(',')[1].split()\n",
        "            new_arr = [word for word in arr if not word in stopwords]\n",
        "            sentence = ' '.join(word for word in new_arr)\n",
        "            sentences.append(sentence)\n",
        "#Define label dictionary\n",
        "i = 0\n",
        "label_dict = {}\n",
        "for lbl in set(labels):\n",
        "    label_dict[lbl] = i\n",
        "    i = i + 1\n",
        "new_labels = []\n",
        "for lbl in labels:\n",
        "    new_labels.append(label_dict[lbl])\n",
        "#Define Training Parameter\n",
        "oov_token = '<oov>'\n",
        "vocab_size = 10000\n",
        "max_len = 200\n",
        "padding = 'post'\n",
        "truncating = 'post'\n",
        "training_size = 0.8\n",
        "emb_dim = 100\n",
        "#Split Train and Test Data\n",
        "split_size = int(len(sentences)*training_size)\n",
        "train_sentences = sentences[0:split_size]\n",
        "train_labels = new_labels[0:split_size]\n",
        "test_sentences = sentences[split_size:]\n",
        "test_labels = new_labels[split_size:]\n",
        "#Define Tokenizer\n",
        "tokenizer = Tokenizer(oov_token=oov_token, num_words=vocab_size)\n",
        "tokenizer.fit_on_texts(train_sentences)\n",
        "#Method to preprocess data\n",
        "def data_preprocessing(sentences, labels):\n",
        "    sequences = tokenizer.texts_to_sequences(sentences)\n",
        "    padded_sequences = pad_sequences(sequences, maxlen=max_len, truncating=truncating, padding=padding)\n",
        "    X = np.array(padded_sequences)\n",
        "    y = tf.keras.utils.to_categorical(labels, len(label_dict.keys()))\n",
        "    return X, y\n",
        "#Get training data\n",
        "X_train, y_train = data_preprocessing(train_sentences, train_labels)\n",
        "X_test, y_test = data_preprocessing(test_sentences, test_labels)\n",
        "#Get Pretrained Embedding\n",
        "dataset_url = 'https://storage.googleapis.com/laurencemoroney-blog.appspot.com/glove.6B.100d.txt'\n",
        "data_dir = tf.keras.utils.get_file('glove.6B.100d.txt', origin=dataset_url)\n",
        "data_dir = pathlib.Path(data_dir)\n",
        "glove_word_emb = {}\n",
        "with open(data_dir, 'r') as file:\n",
        "    for line in file:\n",
        "        line = line.replace('\\n', '')\n",
        "        word = line.split(' ')[0]\n",
        "        emb = [float(val) for val in line.split(' ')[1:]]\n",
        "        glove_word_emb[word] = emb\n",
        "#Define embedding metrix for model\n",
        "embedding_metrix = np.zeros((vocab_size+1, emb_dim))\n",
        "for key, i in tokenizer.word_index.items():\n",
        "    embedding_vector = glove_word_emb.get(key)\n",
        "    if embedding_vector is not None:\n",
        "        embedding_metrix[i] = embedding_vector\n",
        "    if i == 10000:\n",
        "        break\n",
        "#Define Model\n",
        "model = tf.keras.models.Sequential([\n",
        "    tf.keras.layers.Embedding(input_dim=vocab_size+1, output_dim=emb_dim, input_length=max_len, weights=[embedding_metrix], trainable=False),\n",
        "    tf.keras.layers.GlobalAveragePooling1D(),\n",
        "    tf.keras.layers.Dense(24, activation='relu'),\n",
        "    tf.keras.layers.Dense(len(label_dict.keys()), activation='softmax')\n",
        "])\n",
        "model.compile(optimizer=tf.keras.optimizers.RMSprop(learning_rate=0.001), loss='categorical_crossentropy', metrics=['accuracy'])\n",
        "#Train model\n",
        "history = model.fit(X_train, y_train, validation_data=(X_test, y_test), epochs=10, verbose=0)\n",
        "plt.figure(figsize=(10, 6))\n",
        "plt.plot(history.history['accuracy'])\n",
        "plt.plot(history.history['val_accuracy'])"
      ],
      "execution_count": 1,
      "outputs": [
        {
          "output_type": "stream",
          "text": [
            "Downloading data from https://storage.googleapis.com/laurencemoroney-blog.appspot.com/bbc-text.csv\n",
            "5062656/5057493 [==============================] - 0s 0us/step\n",
            "Downloading data from https://storage.googleapis.com/laurencemoroney-blog.appspot.com/glove.6B.100d.txt\n",
            "347119616/347116733 [==============================] - 3s 0us/step\n"
          ],
          "name": "stdout"
        },
        {
          "output_type": "execute_result",
          "data": {
            "text/plain": [
              "[<matplotlib.lines.Line2D at 0x7f1ef01b9400>]"
            ]
          },
          "metadata": {
            "tags": []
          },
          "execution_count": 1
        },
        {
          "output_type": "display_data",
          "data": {
            "image/png": "[encoded data removed]",
            "text/plain": [
              "<Figure size 720x432 with 1 Axes>"
            ]
          },
          "metadata": {
            "tags": [],
            "needs_background": "light"
          }
        }
      ]
    },
    {
      "cell_type": "code",
      "metadata": {
        "id": "GgnNQWULcXOc"
      },
      "source": [
        ""
      ],
      "execution_count": null,
      "outputs": []
    }
  ]
}