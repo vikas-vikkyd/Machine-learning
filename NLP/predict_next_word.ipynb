{
  "nbformat": 4,
  "nbformat_minor": 0,
  "metadata": {
    "colab": {
      "name": "predict_next_word.ipynb",
      "provenance": []
    },
    "kernelspec": {
      "name": "python3",
      "display_name": "Python 3"
    },
    "accelerator": "GPU"
  },
  "cells": [
    {
      "cell_type": "code",
      "metadata": {
        "id": "LZsAlfDxH18R",
        "colab": {
          "base_uri": "https://localhost:8080/",
          "height": 425
        },
        "outputId": "d6f9c467-b93a-4f81-c0fd-3efeadd65857"
      },
      "source": [
        "#Import required library\n",
        "import tensorflow as tf\n",
        "import pathlib\n",
        "from tensorflow.keras.preprocessing.text import Tokenizer\n",
        "from tensorflow.keras.preprocessing.sequence import pad_sequences\n",
        "import numpy as np\n",
        "import io\n",
        "import matplotlib.pyplot as plt\n",
        "\n",
        "#Get training File\n",
        "dataset_url = 'https://storage.googleapis.com/laurencemoroney-blog.appspot.com/sonnets.txt'\n",
        "data_dir = tf.keras.utils.get_file('sonnets.txt', origin=dataset_url)\n",
        "data_dir = pathlib.Path(data_dir)\n",
        "\n",
        "#Read file\n",
        "corpus = []\n",
        "with open(data_dir, 'r') as file:\n",
        "    i = 0\n",
        "    for line in file:\n",
        "        line = line.replace('\\n', '')\n",
        "        corpus.append(line)\n",
        "tokenizer = Tokenizer(oov_token='<oov>')\n",
        "tokenizer.fit_on_texts(corpus)\n",
        "sequences = tokenizer.texts_to_sequences(corpus)\n",
        "\n",
        "#Define sentences and labels\n",
        "sequences_x = []\n",
        "labels = []\n",
        "for seq in sequences:\n",
        "    if len(seq) != 0:\n",
        "        sequences_x.append(seq[0:-1])\n",
        "        labels.append(seq[-1:])\n",
        "#Define Max length\n",
        "max_len = 0\n",
        "for line in sequences_x:\n",
        "    length = len(line)\n",
        "    if length > max_len:\n",
        "        max_len = length\n",
        "\n",
        "#Define Training Parameter\n",
        "vocab_size = len(tokenizer.word_index.keys())\n",
        "embedding_dim = 100\n",
        "truncating = 'pre'\n",
        "padding = 'pre'\n",
        "#Pad the sequence\n",
        "padded_sequences = pad_sequences(sequences_x, truncating=truncating, padding=padding, maxlen=max_len)\n",
        "padded_sequences = np.array(padded_sequences)\n",
        "#Preprocess labels\n",
        "labels_y = tf.keras.utils.to_categorical(labels, vocab_size-1)\n",
        "\n",
        "#Define Model\n",
        "model = tf.keras.models.Sequential([\n",
        "    tf.keras.layers.Embedding(input_dim=vocab_size+1, output_dim=embedding_dim, input_length=max_len),\n",
        "    tf.keras.layers.Bidirectional(tf.keras.layers.LSTM(32, return_sequences=True)),\n",
        "    tf.keras.layers.Dropout(0.2),\n",
        "    tf.keras.layers.Bidirectional(tf.keras.layers.LSTM(64)),\n",
        "    tf.keras.layers.Dropout(0.2),\n",
        "    tf.keras.layers.Dense(128, activation='relu'),\n",
        "    tf.keras.layers.Dropout(0.2),\n",
        "    tf.keras.layers.Dense(vocab_size-1, activation='softmax')\n",
        "])\n",
        "model.compile(optimizer=tf.keras.optimizers.Adam(learning_rate=0.001), loss='categorical_crossentropy', metrics=['accuracy'])\n",
        "history = model.fit(padded_sequences, labels_y, epochs=100, verbose=0)\n",
        "#Plot accuracy\n",
        "plt.figure(figsize=(10, 6))\n",
        "plt.plot(history.history['accuracy'])\n",
        "plt.show()\n",
        "\n",
        "#Get next words\n",
        "seed_text = \"Help me Obi Wan Kenobi, you're my only hope\"\n",
        "next_words = 20\n",
        "word_dict = dict((value, key) for (key, value) in tokenizer.word_index.items())\n",
        "for i in range(next_words):\n",
        "    seed_sentence = [seed_text]\n",
        "    seed_sequence = tokenizer.texts_to_sequences(seed_sentence)\n",
        "    if len(seed_sequence[0]) > max_len:\n",
        "        seed_sequence = [list(seed_sequence[0][(len(seed_sequence[0])-max_len):])]\n",
        "    padded_seed_sequence = pad_sequences(seed_sequence, truncating=truncating, padding=padding, maxlen=max_len)\n",
        "    seed_text = seed_text + \" \" + word_dict[np.argmax(model.predict(padded_seed_sequence)[0])]\n",
        "print(seed_text)\n"
      ],
      "execution_count": 1,
      "outputs": [
        {
          "output_type": "stream",
          "text": [
            "Downloading data from https://storage.googleapis.com/laurencemoroney-blog.appspot.com/sonnets.txt\n",
            "98304/93578 [===============================] - 0s 0us/step\n"
          ],
          "name": "stdout"
        },
        {
          "output_type": "display_data",
          "data": {
            "image/png": "[encoded data removed]",
            "text/plain": [
              "<Figure size 720x432 with 1 Axes>"
            ]
          },
          "metadata": {
            "tags": [],
            "needs_background": "light"
          }
        },
        {
          "output_type": "stream",
          "text": [
            "Help me Obi Wan Kenobi, you're my only hope lies thee thee thee thee more more more see thee thee thee thee thee thee thee thee thee ' '\n"
          ],
          "name": "stdout"
        }
      ]
    },
    {
      "cell_type": "code",
      "metadata": {
        "id": "GgnNQWULcXOc"
      },
      "source": [
        ""
      ],
      "execution_count": null,
      "outputs": []
    }
  ]
}