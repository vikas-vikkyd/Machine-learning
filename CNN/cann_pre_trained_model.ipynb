{
  "nbformat": 4,
  "nbformat_minor": 0,
  "metadata": {
    "colab": {
      "name": "cann_pre_trained_model.ipynb",
      "provenance": []
    },
    "kernelspec": {
      "name": "python3",
      "display_name": "Python 3"
    },
    "accelerator": "GPU"
  },
  "cells": [
    {
      "cell_type": "code",
      "metadata": {
        "id": "LZsAlfDxH18R",
        "colab": {
          "base_uri": "https://localhost:8080/"
        },
        "outputId": "b1f3e0f2-413d-4ffc-b6ea-203947717e8b"
      },
      "source": [
        "import os\n",
        "import zipfile\n",
        "import tensorflow as tf\n",
        "import pathlib\n",
        "from tensorflow.keras.preprocessing.image import ImageDataGenerator\n",
        "from tensorflow.keras.applications.vgg16 import VGG16\n",
        "import matplotlib.pyplot as plt\n",
        "\n",
        "#Get Training and validation Data\n",
        "!wget --no-check-certificate \\\n",
        "    https://storage.googleapis.com/laurencemoroney-blog.appspot.com/horse-or-human.zip \\\n",
        "    -O /tmp/horse-or-human.zip\n",
        "!wget --no-check-certificate \\\n",
        "    https://storage.googleapis.com/laurencemoroney-blog.appspot.com/validation-horse-or-human.zip \\\n",
        "    -O /tmp/validation-horse-or-human.zip\n",
        "#unzip data\n",
        "import os\n",
        "import zipfile\n",
        "local_zip = '/tmp/horse-or-human.zip'\n",
        "zip_ref = zipfile.ZipFile(local_zip, 'r')\n",
        "zip_ref.extractall('/tmp/horse-or-human')\n",
        "zip_ref.close()\n",
        "\n",
        "local_zip = '/tmp/validation-horse-or-human.zip'\n",
        "zip_ref = zipfile.ZipFile(local_zip, 'r')\n",
        "zip_ref.extractall('/tmp/validation-horse-or-human')\n",
        "zip_ref.close()\n",
        "\n",
        "#define data directory\n",
        "training_data_dir = '/tmp/horse-or-human'\n",
        "validation_data_dir = '/tmp/validation-horse-or-human'\n",
        "#Create tarin and validation datagenerator\n",
        "train_data_gen = ImageDataGenerator(rescale=1/255.,\n",
        "                                    rotation_range=40,\n",
        "                                    width_shift_range=0.2,\n",
        "                                    height_shift_range=0.2,\n",
        "                                    shear_range=0.2,\n",
        "                                    zoom_range=0.2,\n",
        "                                    horizontal_flip=True,\n",
        "                                    fill_mode='nearest')\n",
        "test_data_gen = ImageDataGenerator(rescale=1/255.)\n",
        "train_generator = train_data_gen.flow_from_directory(training_data_dir,\n",
        "                                                     target_size=(150, 150),\n",
        "                                                     batch_size=32,\n",
        "                                                     class_mode='binary')\n",
        "test_generator = test_data_gen.flow_from_directory(validation_data_dir,\n",
        "                                                   target_size=(150, 150),\n",
        "                                                   batch_size=32,\n",
        "                                                   class_mode='binary')"
      ],
      "execution_count": 1,
      "outputs": [
        {
          "output_type": "stream",
          "text": [
            "--2021-01-26 10:55:04--  https://storage.googleapis.com/laurencemoroney-blog.appspot.com/horse-or-human.zip\n",
            "Resolving storage.googleapis.com (storage.googleapis.com)... 172.217.164.176, 172.217.2.112, 172.217.7.144, ...\n",
            "Connecting to storage.googleapis.com (storage.googleapis.com)|172.217.164.176|:443... connected.\n",
            "HTTP request sent, awaiting response... 200 OK\n",
            "Length: 149574867 (143M) [application/zip]\n",
            "Saving to: ‘/tmp/horse-or-human.zip’\n",
            "\n",
            "/tmp/horse-or-human 100%[===================>] 142.65M  94.8MB/s    in 1.5s    \n",
            "\n",
            "2021-01-26 10:55:05 (94.8 MB/s) - ‘/tmp/horse-or-human.zip’ saved [149574867/149574867]\n",
            "\n",
            "--2021-01-26 10:55:05--  https://storage.googleapis.com/laurencemoroney-blog.appspot.com/validation-horse-or-human.zip\n",
            "Resolving storage.googleapis.com (storage.googleapis.com)... 172.217.2.112, 172.217.7.144, 142.250.73.208, ...\n",
            "Connecting to storage.googleapis.com (storage.googleapis.com)|172.217.2.112|:443... connected.\n",
            "HTTP request sent, awaiting response... 200 OK\n",
            "Length: 11480187 (11M) [application/zip]\n",
            "Saving to: ‘/tmp/validation-horse-or-human.zip’\n",
            "\n",
            "/tmp/validation-hor 100%[===================>]  10.95M  --.-KB/s    in 0.1s    \n",
            "\n",
            "2021-01-26 10:55:05 (114 MB/s) - ‘/tmp/validation-horse-or-human.zip’ saved [11480187/11480187]\n",
            "\n",
            "Found 1027 images belonging to 2 classes.\n",
            "Found 256 images belonging to 2 classes.\n"
          ],
          "name": "stdout"
        }
      ]
    },
    {
      "cell_type": "code",
      "metadata": {
        "colab": {
          "base_uri": "https://localhost:8080/"
        },
        "id": "Vi9Mei5eVaj8",
        "outputId": "2b9b1825-90e7-4ca5-cff2-e878613ab85f"
      },
      "source": [
        "#Pretrained model\n",
        "pre_trained_model = VGG16(include_top=False, input_shape=(150, 150, 3))\n",
        "for layer in pre_trained_model.layers:\n",
        "    layer.trainable = False\n",
        "#block5_pool\n",
        "last_layer = pre_trained_model.get_layer('block5_pool')\n",
        "last_output = last_layer.output\n",
        "#Define model\n",
        "x = tf.keras.layers.Flatten()(last_output)\n",
        "x = tf.keras.layers.Dense(1024, activation='relu')(x)\n",
        "x = tf.keras.layers.Dense(1, activation='sigmoid')(x)\n",
        "\n",
        "model = tf.keras.Model(pre_trained_model.input, x)\n",
        "model.compile(optimizer=tf.keras.optimizers.RMSprop(learning_rate=0.01), loss='binary_crossentropy', metrics=['accuracy'])\n",
        "\n",
        "#train model\n",
        "history = model.fit(train_generator, validation_data=test_generator, epochs=10)"
      ],
      "execution_count": 3,
      "outputs": [
        {
          "output_type": "stream",
          "text": [
            "Epoch 1/10\n",
            "33/33 [==============================] - 12s 344ms/step - loss: 63.1441 - accuracy: 0.6017 - val_loss: 1.5265 - val_accuracy: 0.7266\n",
            "Epoch 2/10\n",
            "33/33 [==============================] - 11s 337ms/step - loss: 1.2817 - accuracy: 0.8584 - val_loss: 0.3062 - val_accuracy: 0.9219\n",
            "Epoch 3/10\n",
            "33/33 [==============================] - 11s 336ms/step - loss: 1.0060 - accuracy: 0.8280 - val_loss: 0.0519 - val_accuracy: 0.9727\n",
            "Epoch 4/10\n",
            "33/33 [==============================] - 11s 334ms/step - loss: 0.4411 - accuracy: 0.9015 - val_loss: 0.4315 - val_accuracy: 0.8867\n",
            "Epoch 5/10\n",
            "33/33 [==============================] - 11s 335ms/step - loss: 0.8276 - accuracy: 0.8885 - val_loss: 1.6970 - val_accuracy: 0.8086\n",
            "Epoch 6/10\n",
            "33/33 [==============================] - 11s 334ms/step - loss: 0.5797 - accuracy: 0.8775 - val_loss: 0.0484 - val_accuracy: 0.9883\n",
            "Epoch 7/10\n",
            "33/33 [==============================] - 11s 334ms/step - loss: 0.4805 - accuracy: 0.8807 - val_loss: 0.3127 - val_accuracy: 0.9414\n",
            "Epoch 8/10\n",
            "33/33 [==============================] - 11s 334ms/step - loss: 0.1777 - accuracy: 0.9532 - val_loss: 0.4661 - val_accuracy: 0.9180\n",
            "Epoch 9/10\n",
            "33/33 [==============================] - 11s 334ms/step - loss: 0.1364 - accuracy: 0.9514 - val_loss: 0.0890 - val_accuracy: 0.9766\n",
            "Epoch 10/10\n",
            "33/33 [==============================] - 11s 337ms/step - loss: 0.4436 - accuracy: 0.9109 - val_loss: 0.2438 - val_accuracy: 0.9492\n"
          ],
          "name": "stdout"
        }
      ]
    },
    {
      "cell_type": "code",
      "metadata": {
        "colab": {
          "base_uri": "https://localhost:8080/",
          "height": 375
        },
        "id": "hZ9L62H9lygj",
        "outputId": "e32c9d22-dddc-4d2b-af38-32e48d7d68a0"
      },
      "source": [
        "#Plot training and validation accuracy\n",
        "plt.figure(figsize=(10,6))\n",
        "plt.plot(history.history['accuracy'])\n",
        "plt.plot(history.history['val_accuracy'])\n",
        "plt.show()"
      ],
      "execution_count": 4,
      "outputs": [
        {
          "output_type": "display_data",
          "data": {
            "image/png": "[encoded data removed]",
            "text/plain": [
              "<Figure size 720x432 with 1 Axes>"
            ]
          },
          "metadata": {
            "tags": [],
            "needs_background": "light"
          }
        }
      ]
    },
    {
      "cell_type": "code",
      "metadata": {
        "id": "GgnNQWULcXOc"
      },
      "source": [
        ""
      ],
      "execution_count": null,
      "outputs": []
    }
  ]
}