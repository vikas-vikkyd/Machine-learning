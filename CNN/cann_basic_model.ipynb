{
  "nbformat": 4,
  "nbformat_minor": 0,
  "metadata": {
    "colab": {
      "name": "cann_basic_model.ipynb",
      "provenance": []
    },
    "kernelspec": {
      "name": "python3",
      "display_name": "Python 3"
    },
    "accelerator": "GPU"
  },
  "cells": [
    {
      "cell_type": "code",
      "metadata": {
        "id": "LZsAlfDxH18R",
        "colab": {
          "base_uri": "https://localhost:8080/"
        },
        "outputId": "31731cfd-cfaa-4596-af5c-89266c957758"
      },
      "source": [
        "#Import all libraries\n",
        "import tensorflow as tf\n",
        "import pathlib\n",
        "import os\n",
        "import matplotlib.pyplot as plt\n",
        "from tensorflow.keras.preprocessing.image import ImageDataGenerator\n",
        "\n",
        "#get image file\n",
        "dataset_url = \"https://storage.googleapis.com/download.tensorflow.org/example_images/flower_photos.tgz\"\n",
        "data_dir = tf.keras.utils.get_file('flower_photos', origin=dataset_url, untar=True)\n",
        "data_dir = pathlib.Path(data_dir)\n",
        "daisy_path = os.path.join(data_dir, 'daisy/')\n",
        "dandelion_path = os.path.join(data_dir, 'dandelion/')\n",
        "roses_path = os.path.join(data_dir, 'roses/')\n",
        "sunflowers_path = os.path.join(data_dir, 'sunflowers/')\n",
        "tulips_path = os.path.join(data_dir, 'tulips/')\n",
        "\n",
        "#Dataprep for training\n",
        "image_datagen = ImageDataGenerator(rescale=1/255.)\n",
        "train_gen = image_datagen.flow_from_directory(data_dir,\n",
        "                                              target_size=(150, 150),\n",
        "                                              batch_size=32,\n",
        "                                              class_mode='categorical')\n",
        "#Define Model\n",
        "model = tf.keras.models.Sequential([\n",
        "    tf.keras.layers.Conv2D(32, (2, 2), activation='relu', input_shape=(150, 150, 3)),\n",
        "    tf.keras.layers.AveragePooling2D((2, 2)),\n",
        "    tf.keras.layers.Conv2D(64, (2, 2), activation='relu'),\n",
        "    tf.keras.layers.AveragePooling2D(2, 2),\n",
        "    tf.keras.layers.Flatten(),\n",
        "    tf.keras.layers.Dense(128, activation='relu'),\n",
        "    tf.keras.layers.Dropout(0.2),\n",
        "    tf.keras.layers.Dense(5, activation='softmax')\n",
        "])\n",
        "model.compile(optimizer=tf.keras.optimizers.RMSprop(learning_rate=0.001), loss='categorical_crossentropy', metrics=['accuracy'])\n",
        "\n",
        "#Train model\n",
        "history = model.fit(train_gen,  epochs=10)"
      ],
      "execution_count": 1,
      "outputs": [
        {
          "output_type": "stream",
          "text": [
            "Downloading data from https://storage.googleapis.com/download.tensorflow.org/example_images/flower_photos.tgz\n",
            "228818944/228813984 [==============================] - 1s 0us/step\n",
            "Found 3670 images belonging to 5 classes.\n",
            "Epoch 1/10\n",
            "115/115 [==============================] - 18s 92ms/step - loss: 4.8422 - accuracy: 0.3385\n",
            "Epoch 2/10\n",
            "115/115 [==============================] - 11s 94ms/step - loss: 1.0943 - accuracy: 0.5734\n",
            "Epoch 3/10\n",
            "115/115 [==============================] - 11s 93ms/step - loss: 0.9237 - accuracy: 0.6478\n",
            "Epoch 4/10\n",
            "115/115 [==============================] - 11s 94ms/step - loss: 0.7060 - accuracy: 0.7387\n",
            "Epoch 5/10\n",
            "115/115 [==============================] - 11s 92ms/step - loss: 0.5448 - accuracy: 0.8174\n",
            "Epoch 6/10\n",
            "115/115 [==============================] - 11s 92ms/step - loss: 0.3889 - accuracy: 0.8718\n",
            "Epoch 7/10\n",
            "115/115 [==============================] - 11s 91ms/step - loss: 0.2907 - accuracy: 0.9070\n",
            "Epoch 8/10\n",
            "115/115 [==============================] - 11s 92ms/step - loss: 0.1975 - accuracy: 0.9355\n",
            "Epoch 9/10\n",
            "115/115 [==============================] - 11s 92ms/step - loss: 0.1393 - accuracy: 0.9583\n",
            "Epoch 10/10\n",
            "115/115 [==============================] - 11s 91ms/step - loss: 0.1156 - accuracy: 0.9660\n"
          ],
          "name": "stdout"
        }
      ]
    },
    {
      "cell_type": "code",
      "metadata": {
        "colab": {
          "base_uri": "https://localhost:8080/",
          "height": 391
        },
        "id": "czIU1-jvam_F",
        "outputId": "e2dbd9df-4b81-4bb1-87e6-68abc56bef44"
      },
      "source": [
        "plt.figure(figsize=(10,6))\n",
        "plt.plot(history.history['accuracy'])"
      ],
      "execution_count": 6,
      "outputs": [
        {
          "output_type": "execute_result",
          "data": {
            "text/plain": [
              "[<matplotlib.lines.Line2D at 0x7fe0c8e374a8>]"
            ]
          },
          "metadata": {
            "tags": []
          },
          "execution_count": 6
        },
        {
          "output_type": "display_data",
          "data": {
            "image/png": "[encoded data removed]",
            "text/plain": [
              "<Figure size 720x432 with 1 Axes>"
            ]
          },
          "metadata": {
            "tags": [],
            "needs_background": "light"
          }
        }
      ]
    },
    {
      "cell_type": "code",
      "metadata": {
        "colab": {
          "base_uri": "https://localhost:8080/"
        },
        "id": "ZuHMlNsharYk",
        "outputId": "bfe5639e-dfd4-4cd4-f0ae-d0905ee21be3"
      },
      "source": [
        "model.save('basic_CNN_model', overwrite=True)"
      ],
      "execution_count": 8,
      "outputs": [
        {
          "output_type": "stream",
          "text": [
            "INFO:tensorflow:Assets written to: basic_CNN_model/assets\n"
          ],
          "name": "stdout"
        }
      ]
    },
    {
      "cell_type": "code",
      "metadata": {
        "colab": {
          "base_uri": "https://localhost:8080/"
        },
        "id": "Jl7Kd0cRjzkk",
        "outputId": "fd99e5fa-29d9-4443-b956-0075804959f3"
      },
      "source": [
        "#Prediction\n",
        "import tensorflow as tf\n",
        "from tensorflow.keras.preprocessing import image\n",
        "import numpy as np\n",
        "\n",
        "model = tf.keras.models.load_model('cnn_saved_model')\n",
        "class_indc = {'daisy': 0, 'dandelion': 1, 'roses': 2, 'sunflowers': 3, 'tulips': 4}\n",
        "indc = dict((value, index) for (index, value) in class_indc.items())\n",
        "\n",
        "def prepare_image(file):\n",
        "    img_rsz = image.load_img(file, target_size=(150, 150))\n",
        "    img_array = image.img_to_array(img_rsz)\n",
        "    img_array = np.expand_dims(img_array, axis=0)\n",
        "    return img_array/255.\n",
        "img = prepare_image('test_daisy.jpg')\n",
        "print(\"Provided Image is: \", indc[model.predict_classes(img)[0]])"
      ],
      "execution_count": 16,
      "outputs": [
        {
          "output_type": "execute_result",
          "data": {
            "text/plain": [
              "{'daisy': 0, 'dandelion': 1, 'roses': 2, 'sunflowers': 3, 'tulips': 4}"
            ]
          },
          "metadata": {
            "tags": []
          },
          "execution_count": 16
        }
      ]
    },
    {
      "cell_type": "code",
      "metadata": {
        "id": "hZ9L62H9lygj"
      },
      "source": [
        ""
      ],
      "execution_count": null,
      "outputs": []
    }
  ]
}