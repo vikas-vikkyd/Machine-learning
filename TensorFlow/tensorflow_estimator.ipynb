{
  "nbformat": 4,
  "nbformat_minor": 0,
  "metadata": {
    "colab": {
      "name": "tensorflow_estimator.ipynb",
      "provenance": []
    },
    "kernelspec": {
      "name": "python3",
      "display_name": "Python 3"
    }
  },
  "cells": [
    {
      "cell_type": "code",
      "metadata": {
        "id": "RCT5sIJd6Yc_"
      },
      "source": [
        "import tensorflow as tf\n",
        "import pandas as pd\n",
        "import pathlib"
      ],
      "execution_count": 22,
      "outputs": []
    },
    {
      "cell_type": "code",
      "metadata": {
        "id": "5WTn0Cv-6bga"
      },
      "source": [
        "#Download data\n",
        "train_data = tf.keras.utils.get_file('train.csv', 'https://storage.googleapis.com/tf-datasets/titanic/train.csv')\n",
        "eval_data = tf.keras.utils.get_file('eval.csv', 'https://storage.googleapis.com/tf-datasets/titanic/eval.csv')\n",
        "train_data_path = pathlib.Path(train_data)\n",
        "eval_data_path = pathlib.Path(eval_data)"
      ],
      "execution_count": 23,
      "outputs": []
    },
    {
      "cell_type": "markdown",
      "metadata": {
        "id": "6v_SODdAVzAo"
      },
      "source": [
        "There are two main steps to define estimator\n",
        "1. Define Input function which should return Tensorflow Dataset\n",
        "2. Create Feature column from Row Data"
      ]
    },
    {
      "cell_type": "code",
      "metadata": {
        "id": "mbEeaHMA8VCC"
      },
      "source": [
        "#Define Iuput pipeline\n",
        "def make_input(file, mode='train', lbl='survived', batch_size=32):\n",
        "  def input_function():\n",
        "    data = pd.read_csv(file)\n",
        "    if mode == 'train':\n",
        "      label = data.pop(lbl)\n",
        "      dataset = tf.data.Dataset.from_tensor_slices((dict(data), label))\n",
        "      dataset = dataset.batch(batch_size)\n",
        "    return dataset\n",
        "  return input_function"
      ],
      "execution_count": 41,
      "outputs": []
    },
    {
      "cell_type": "code",
      "metadata": {
        "id": "jzHZ5SxNRpDn"
      },
      "source": [
        "#Define Training and evaluation input function\n",
        "train_function = make_input(train_data_path)\n",
        "eval_function = make_input(eval_data_path)"
      ],
      "execution_count": 25,
      "outputs": []
    },
    {
      "cell_type": "code",
      "metadata": {
        "id": "hwl3TCBi8EHZ"
      },
      "source": [
        "data = pd.read_csv(train_data_path)"
      ],
      "execution_count": 26,
      "outputs": []
    },
    {
      "cell_type": "code",
      "metadata": {
        "id": "jKKcro_m-FW-"
      },
      "source": [
        "#Define Numerical and Categorical columns\n",
        "NUMERIC_COLUMNS = ['age', 'n_siblings_spouses', 'fare']\n",
        "CATEGORICAL_COLUMNS = ['sex', 'parch', 'class', 'deck', 'embark_town', 'alone']"
      ],
      "execution_count": 27,
      "outputs": []
    },
    {
      "cell_type": "code",
      "metadata": {
        "id": "VCt5RefkAxMh"
      },
      "source": [
        "#Define Feature Columns\n",
        "def define_faetures(data, NUMERIC_COLUMNS, CATEGORICAL_COLUMNS):\n",
        "  feature_columns = []\n",
        "  for feature_column in NUMERIC_COLUMNS:\n",
        "    feature_columns.append(tf.feature_column.numeric_column(feature_column))\n",
        "  for feature_column in CATEGORICAL_COLUMNS:\n",
        "    cat_col = tf.feature_column.categorical_column_with_vocabulary_list(feature_column, data[feature_column].unique())\n",
        "    feature_columns.append(tf.feature_column.indicator_column(cat_col))\n",
        "  return feature_columns"
      ],
      "execution_count": 42,
      "outputs": []
    },
    {
      "cell_type": "code",
      "metadata": {
        "id": "5xD8KzxuA6Xl"
      },
      "source": [
        "#Train and evaluate estimator\n",
        "def train_and_eval_estimator(model_path):\n",
        "  estimator = tf.estimator.DNNClassifier(model_dir=model_path,\n",
        "                                        hidden_units=[64, 32], \n",
        "                                        feature_columns=define_faetures(data, NUMERIC_COLUMNS, CATEGORICAL_COLUMNS))\n",
        "  train_spec = tf.estimator.TrainSpec(train_function)\n",
        "  eval_spec = tf.estimator.EvalSpec(eval_function)\n",
        "  tf.estimator.train_and_evaluate(estimator, train_spec, eval_spec)"
      ],
      "execution_count": 43,
      "outputs": []
    },
    {
      "cell_type": "code",
      "metadata": {
        "colab": {
          "base_uri": "https://localhost:8080/"
        },
        "id": "lasRt6y5Uz2u",
        "outputId": "ca170a94-6387-48e3-d7b4-031da657b1c1"
      },
      "source": [
        "train_and_eval_estimator('titanic_model')"
      ],
      "execution_count": 40,
      "outputs": [
        {
          "output_type": "stream",
          "text": [
            "INFO:tensorflow:Using default config.\n",
            "INFO:tensorflow:Using config: {'_model_dir': 'titanic_model', '_tf_random_seed': None, '_save_summary_steps': 100, '_save_checkpoints_steps': None, '_save_checkpoints_secs': 600, '_session_config': allow_soft_placement: true\n",
            "graph_options {\n",
            "  rewrite_options {\n",
            "    meta_optimizer_iterations: ONE\n",
            "  }\n",
            "}\n",
            ", '_keep_checkpoint_max': 5, '_keep_checkpoint_every_n_hours': 10000, '_log_step_count_steps': 100, '_train_distribute': None, '_device_fn': None, '_protocol': None, '_eval_distribute': None, '_experimental_distribute': None, '_experimental_max_worker_delay_secs': None, '_session_creation_timeout_secs': 7200, '_checkpoint_save_graph_def': True, '_service': None, '_cluster_spec': ClusterSpec({}), '_task_type': 'worker', '_task_id': 0, '_global_id_in_cluster': 0, '_master': '', '_evaluation_master': '', '_is_chief': True, '_num_ps_replicas': 0, '_num_worker_replicas': 1}\n",
            "INFO:tensorflow:Not using Distribute Coordinator.\n",
            "INFO:tensorflow:Running training and evaluation locally (non-distributed).\n",
            "INFO:tensorflow:Start train and evaluate loop. The evaluate will happen after every checkpoint. Checkpoint frequency is determined based on RunConfig arguments: save_checkpoints_steps None or save_checkpoints_secs 600.\n",
            "INFO:tensorflow:Calling model_fn.\n",
            "INFO:tensorflow:Done calling model_fn.\n",
            "INFO:tensorflow:Create CheckpointSaverHook.\n",
            "INFO:tensorflow:Graph was finalized.\n",
            "INFO:tensorflow:Restoring parameters from titanic_model/model.ckpt-140\n",
            "INFO:tensorflow:Running local_init_op.\n",
            "INFO:tensorflow:Done running local_init_op.\n",
            "INFO:tensorflow:Calling checkpoint listeners before saving checkpoint 140...\n",
            "INFO:tensorflow:Saving checkpoints for 140 into titanic_model/model.ckpt.\n",
            "INFO:tensorflow:Calling checkpoint listeners after saving checkpoint 140...\n",
            "INFO:tensorflow:loss = 0.7240133, step = 140\n",
            "INFO:tensorflow:Calling checkpoint listeners before saving checkpoint 160...\n",
            "INFO:tensorflow:Saving checkpoints for 160 into titanic_model/model.ckpt.\n",
            "INFO:tensorflow:Calling checkpoint listeners after saving checkpoint 160...\n",
            "INFO:tensorflow:Calling model_fn.\n",
            "INFO:tensorflow:Done calling model_fn.\n",
            "INFO:tensorflow:Starting evaluation at 2021-03-07T10:58:46Z\n",
            "INFO:tensorflow:Graph was finalized.\n",
            "INFO:tensorflow:Restoring parameters from titanic_model/model.ckpt-160\n",
            "INFO:tensorflow:Running local_init_op.\n",
            "INFO:tensorflow:Done running local_init_op.\n",
            "INFO:tensorflow:Inference Time : 0.70557s\n",
            "INFO:tensorflow:Finished evaluation at 2021-03-07-10:58:47\n",
            "INFO:tensorflow:Saving dict for global step 160: accuracy = 0.6931818, accuracy_baseline = 0.625, auc = 0.6943679, auc_precision_recall = 0.57210684, average_loss = 0.6047894, global_step = 160, label/mean = 0.375, loss = 0.61180836, precision = 0.6551724, prediction/mean = 0.3936785, recall = 0.3838384\n",
            "INFO:tensorflow:Saving 'checkpoint_path' summary for global step 160: titanic_model/model.ckpt-160\n",
            "INFO:tensorflow:Loss for final step: 0.6045707.\n"
          ],
          "name": "stdout"
        }
      ]
    },
    {
      "cell_type": "code",
      "metadata": {
        "id": "qSFNIuH8U4EH"
      },
      "source": [
        ""
      ],
      "execution_count": null,
      "outputs": []
    }
  ]
}