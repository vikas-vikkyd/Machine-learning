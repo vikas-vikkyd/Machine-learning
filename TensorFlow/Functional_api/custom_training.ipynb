{
  "nbformat": 4,
  "nbformat_minor": 0,
  "metadata": {
    "colab": {
      "name": "custom_training.ipynb",
      "provenance": []
    },
    "kernelspec": {
      "name": "python3",
      "display_name": "Python 3"
    },
    "language_info": {
      "name": "python"
    }
  },
  "cells": [
    {
      "cell_type": "code",
      "metadata": {
        "id": "yvTOe857g7Tk"
      },
      "source": [
        "import tensorflow as tf\n",
        "import numpy as np\n",
        "import matplotlib.pyplot as plt"
      ],
      "execution_count": 194,
      "outputs": []
    },
    {
      "cell_type": "code",
      "metadata": {
        "colab": {
          "base_uri": "https://localhost:8080/"
        },
        "id": "bermlElDYkD7",
        "outputId": "2d700e3a-e78f-4c54-f625-00e2a75befef"
      },
      "source": [
        "#Prepare data for y = 3x + 5\n",
        "x = np.random.rand(100)\n",
        "y = 3 * x + 5\n",
        "\n",
        "#Define Model\n",
        "class my_model(object):\n",
        "  def __init__(self):\n",
        "    self.w = tf.Variable(2.0)\n",
        "    self.b = tf.Variable(1.0)\n",
        "  def __call__(self, x=1):\n",
        "    return self.w * x + self.b\n",
        "model = my_model()\n",
        "\n",
        "#Define loss function\n",
        "def loss(y_true, y_pred):\n",
        "  #Mean squared error mean(summation(x2-x1)**2)\n",
        "  return tf.sqrt(tf.reduce_sum(tf.square(tf.subtract(y_true, y_pred))))\n",
        "\n",
        "#Custom train function\n",
        "def train(model, x, y, learning_rate=0.01):\n",
        "  with tf.GradientTape() as tape:\n",
        "    current_loss = loss(y, model(x))\n",
        "  #Gradient wrt w and b\n",
        "  dw, db = tape.gradient(current_loss, [model.w, model.b])\n",
        "  model.w.assign_sub(learning_rate*dw)\n",
        "  model.b.assign_sub(learning_rate*db)\n",
        "  return current_loss\n",
        "\n",
        "#Before Training\n",
        "print(\"Model weight befor training: {}\".format(model.w.numpy()))\n",
        "print(\"Model bias term before training: {}\".format(model.b.numpy()))\n",
        "print(\"prediction before training for x = 10: {}\".format(model(10)))\n",
        "\n",
        "#Model Training\n",
        "epochs = 100\n",
        "losses = []\n",
        "for epoch in range(epochs):\n",
        "  train_loss = train(model, x, y)\n",
        "  losses.append(train_loss)\n",
        "  #print(\"Epoch {}/{}: Training Loss:{}\".format(epoch+1, epochs, train_loss))\n",
        "\n",
        "#After Training\n",
        "print(\"Model weight after training: {}\".format(model.w.numpy()))\n",
        "print(\"Model bias term after training: {}\".format(model.b.numpy()))\n",
        "print(\"prediction before training for x = 10: {}\".format(model(10)))"
      ],
      "execution_count": 199,
      "outputs": [
        {
          "output_type": "stream",
          "text": [
            "Model weight befor training: 2.0\n",
            "Model bias term before training: 1.0\n",
            "prediction before training for x = 10: 21.0\n",
            "Model weight after training: 2.9630534648895264\n",
            "Model bias term after training: 4.9233622550964355\n",
            "prediction before training for x = 10: 34.553897857666016\n"
          ],
          "name": "stdout"
        }
      ]
    },
    {
      "cell_type": "code",
      "metadata": {
        "colab": {
          "base_uri": "https://localhost:8080/",
          "height": 421
        },
        "id": "FfXzjHXpjFTY",
        "outputId": "b71e3a3f-9f4d-47fa-d390-5ab920462d2c"
      },
      "source": [
        "plt.figure(figsize=(10,6))\n",
        "plt.plot(losses)\n",
        "plt.title(\"Training Loss\")\n",
        "plt.xlabel('Epoch')\n",
        "plt.ylabel('Loss')"
      ],
      "execution_count": 203,
      "outputs": [
        {
          "output_type": "execute_result",
          "data": {
            "text/plain": [
              "Text(0, 0.5, 'Loss')"
            ]
          },
          "metadata": {
            "tags": []
          },
          "execution_count": 203
        },
        {
          "output_type": "display_data",
          "data": {
            "image/png": "[encoded data removed]",
            "text/plain": [
              "<Figure size 720x432 with 1 Axes>"
            ]
          },
          "metadata": {
            "tags": [],
            "needs_background": "light"
          }
        }
      ]
    },
    {
      "cell_type": "code",
      "metadata": {
        "id": "GNouRCXqrGh_"
      },
      "source": [
        ""
      ],
      "execution_count": null,
      "outputs": []
    }
  ]
}