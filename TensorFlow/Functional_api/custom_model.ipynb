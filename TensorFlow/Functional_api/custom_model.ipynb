{
  "nbformat": 4,
  "nbformat_minor": 0,
  "metadata": {
    "colab": {
      "name": "custom_model.ipynb",
      "provenance": []
    },
    "kernelspec": {
      "name": "python3",
      "display_name": "Python 3"
    },
    "language_info": {
      "name": "python"
    }
  },
  "cells": [
    {
      "cell_type": "code",
      "metadata": {
        "id": "yvTOe857g7Tk"
      },
      "source": [
        "from tensorflow.keras.datasets import fashion_mnist\n",
        "import numpy as np\n",
        "from tensorflow.keras.layers import Input, Dense\n",
        "from tensorflow.keras.models import Model\n",
        "import tensorflow as tf\n",
        "from tensorflow.python.keras.utils.vis_utils import plot_model\n",
        "from tensorflow.keras.layers import Layer, Conv2D, MaxPool2D, Flatten\n",
        "import pandas as pd"
      ],
      "execution_count": 95,
      "outputs": []
    },
    {
      "cell_type": "code",
      "metadata": {
        "id": "U-OEzM6mgZlK"
      },
      "source": [
        "(train_x, train_y), (test_x, test_y) = fashion_mnist.load_data()\n",
        "train_x = np.expand_dims(train_x, axis=-1)\n",
        "test_x = np.expand_dims(test_x, axis=-1)\n",
        "num_labels = len(set(train_y))\n",
        "train_y = np.array(tf.keras.utils.to_categorical(train_y, num_labels))\n",
        "test_y = np.array(tf.keras.utils.to_categorical(test_y, num_labels))"
      ],
      "execution_count": 96,
      "outputs": []
    },
    {
      "cell_type": "code",
      "metadata": {
        "id": "9jtCvs4wLWFS"
      },
      "source": [
        "class wideAndDeepModel(Model):\n",
        "  def __init__(self, num_labels, activation='relu', **kwargs):\n",
        "    super().__init__(**kwargs)\n",
        "    self.cnn1 = Conv2D(16, (3,3), input_shape=(28, 28), activation='relu')\n",
        "    self.maxpool = MaxPool2D((2,3))\n",
        "    self.flatten = Flatten()\n",
        "    self.dnn1 = Dense(32, activation='relu')\n",
        "    self.dnn2 = Dense(num_labels, activation=activation)\n",
        "  def call(self, inputs):\n",
        "    input_a = inputs\n",
        "    cnn1 = self.cnn1(input_a)\n",
        "    maxpool = self.maxpool(cnn1)\n",
        "    flatten = self.flatten(maxpool)\n",
        "    dnn1 = self.dnn1(flatten)\n",
        "    dnn2 = self.dnn2(dnn1)\n",
        "    return dnn2"
      ],
      "execution_count": 97,
      "outputs": []
    },
    {
      "cell_type": "code",
      "metadata": {
        "colab": {
          "base_uri": "https://localhost:8080/"
        },
        "id": "RkEoGvTyL74l",
        "outputId": "183b0769-10eb-434c-b1ef-cf5120b8bd27"
      },
      "source": [
        "my_model = wideAndDeepModel(activation='softmax', num_labels=num_labels)\n",
        "my_model.compile(optimizer=tf.keras.optimizers.RMSprop(), loss='categorical_crossentropy', metrics='accuracy')\n",
        "my_model.fit(tf.cast(train_x, dtype=tf.float32), train_y, epochs=5)"
      ],
      "execution_count": 99,
      "outputs": [
        {
          "output_type": "stream",
          "text": [
            "Epoch 1/5\n",
            "1875/1875 [==============================] - 18s 9ms/step - loss: 1.7494 - accuracy: 0.6601\n",
            "Epoch 2/5\n",
            "1875/1875 [==============================] - 17s 9ms/step - loss: 0.3903 - accuracy: 0.8691\n",
            "Epoch 3/5\n",
            "1875/1875 [==============================] - 17s 9ms/step - loss: 0.3515 - accuracy: 0.8800\n",
            "Epoch 4/5\n",
            "1875/1875 [==============================] - 17s 9ms/step - loss: 0.3432 - accuracy: 0.8836\n",
            "Epoch 5/5\n",
            "1875/1875 [==============================] - 17s 9ms/step - loss: 0.3375 - accuracy: 0.8818\n"
          ],
          "name": "stdout"
        },
        {
          "output_type": "execute_result",
          "data": {
            "text/plain": [
              "<tensorflow.python.keras.callbacks.History at 0x7f8c131f8d50>"
            ]
          },
          "metadata": {
            "tags": []
          },
          "execution_count": 99
        }
      ]
    },
    {
      "cell_type": "code",
      "metadata": {
        "id": "hYsM9q3EMOeb"
      },
      "source": [
        ""
      ],
      "execution_count": null,
      "outputs": []
    }
  ]
}