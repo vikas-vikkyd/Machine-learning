{
  "nbformat": 4,
  "nbformat_minor": 0,
  "metadata": {
    "colab": {
      "name": "mirrored_strategy.ipynb",
      "provenance": []
    },
    "kernelspec": {
      "display_name": "Python 3",
      "name": "python3"
    },
    "language_info": {
      "name": "python"
    },
    "accelerator": "GPU"
  },
  "cells": [
    {
      "cell_type": "code",
      "metadata": {
        "id": "EwT0qJClDYBN"
      },
      "source": [
        "import pandas as pd\n",
        "import numpy as np\n",
        "import tensorflow as tf\n",
        "from keras.datasets import mnist"
      ],
      "execution_count": 111,
      "outputs": []
    },
    {
      "cell_type": "code",
      "metadata": {
        "colab": {
          "base_uri": "https://localhost:8080/"
        },
        "id": "t1WKzenAGqPK",
        "outputId": "93c6c1d0-737a-4ead-df1a-4010ef681e3e"
      },
      "source": [
        "#Define Strategy\n",
        "strategy = tf.distribute.MirroredStrategy()\n",
        "print(\"Number of devices:{}\".format(strategy.num_replicas_in_sync))"
      ],
      "execution_count": 171,
      "outputs": [
        {
          "output_type": "stream",
          "text": [
            "INFO:tensorflow:Using MirroredStrategy with devices ('/job:localhost/replica:0/task:0/device:GPU:0',)\n",
            "Number of devices:1\n"
          ],
          "name": "stdout"
        }
      ]
    },
    {
      "cell_type": "code",
      "metadata": {
        "id": "I7GzA04MHLQG"
      },
      "source": [
        "#Set batch size accoring to number of replicas\n",
        "BATCH_SIZE_PER_REPLICA = 64\n",
        "BATCH_SIZE = BATCH_SIZE_PER_REPLICA * strategy.num_replicas_in_sync\n",
        "BUFFER_SIZE = 10000"
      ],
      "execution_count": 172,
      "outputs": []
    },
    {
      "cell_type": "code",
      "metadata": {
        "id": "7TuMMeOuDdDb"
      },
      "source": [
        "#Define Train and test data\n",
        "(train_x, train_y), (test_x, test_y) = mnist.load_data()\n",
        "train_y = tf.keras.utils.to_categorical(train_y, 10)\n",
        "test_y = tf.keras.utils.to_categorical(test_y, 10)"
      ],
      "execution_count": 173,
      "outputs": []
    },
    {
      "cell_type": "code",
      "metadata": {
        "id": "iyzqJ5SyHomY"
      },
      "source": [
        "#Scale function\n",
        "def scale(image, label):\n",
        "  image = tf.cast(image, tf.float32)\n",
        "  image = image/255.0\n",
        "  image = tf.expand_dims(image, axis=-1)\n",
        "  return image, label\n",
        "#Dataset for training\n",
        "train_ds = tf.data.Dataset.from_tensor_slices((train_x, train_y))\n",
        "train_ds = train_ds.map(scale)\n",
        "train_ds = train_ds.shuffle(BUFFER_SIZE).batch(BATCH_SIZE)\n",
        "#Dataset for testing\n",
        "test_ds = tf.data.Dataset.from_tensor_slices((test_x, test_y))\n",
        "test_ds = test_ds.map(scale)\n",
        "test_ds = test_ds.shuffle(BUFFER_SIZE).batch(BATCH_SIZE)"
      ],
      "execution_count": 174,
      "outputs": []
    },
    {
      "cell_type": "code",
      "metadata": {
        "id": "nTVn-YNkEw44"
      },
      "source": [
        "#Model with strategy\n",
        "with strategy.scope():\n",
        "  model = tf.keras.models.Sequential([\n",
        "                                      tf.keras.layers.Conv2D(32, (3,3), activation='relu', input_shape=(28,28,1)),\n",
        "                                      tf.keras.layers.MaxPool2D((2,2)),\n",
        "                                      tf.keras.layers.Flatten(),\n",
        "                                      tf.keras.layers.Dense(10, activation='softmax')\n",
        "  ])"
      ],
      "execution_count": 175,
      "outputs": []
    },
    {
      "cell_type": "code",
      "metadata": {
        "colab": {
          "base_uri": "https://localhost:8080/"
        },
        "id": "7F4kbnBQIHnN",
        "outputId": "a396579f-d8f7-4712-c216-26f6cad97fc1"
      },
      "source": [
        "#Fit model\n",
        "model.compile(optimizer=tf.keras.optimizers.RMSprop(), loss='categorical_crossentropy', metrics=['accuracy'])\n",
        "model.fit(train_ds, epochs=5, validation_data=test_ds)"
      ],
      "execution_count": 176,
      "outputs": [
        {
          "output_type": "stream",
          "text": [
            "Epoch 1/5\n",
            "938/938 [==============================] - 12s 9ms/step - loss: 0.4697 - accuracy: 0.8741 - val_loss: 0.1200 - val_accuracy: 0.9653\n",
            "Epoch 2/5\n",
            "938/938 [==============================] - 8s 8ms/step - loss: 0.1118 - accuracy: 0.9675 - val_loss: 0.0781 - val_accuracy: 0.9768\n",
            "Epoch 3/5\n",
            "938/938 [==============================] - 8s 8ms/step - loss: 0.0762 - accuracy: 0.9780 - val_loss: 0.0692 - val_accuracy: 0.9782\n",
            "Epoch 4/5\n",
            "938/938 [==============================] - 8s 8ms/step - loss: 0.0608 - accuracy: 0.9823 - val_loss: 0.0597 - val_accuracy: 0.9811\n",
            "Epoch 5/5\n",
            "938/938 [==============================] - 8s 8ms/step - loss: 0.0555 - accuracy: 0.9837 - val_loss: 0.0593 - val_accuracy: 0.9815\n"
          ],
          "name": "stdout"
        },
        {
          "output_type": "execute_result",
          "data": {
            "text/plain": [
              "<tensorflow.python.keras.callbacks.History at 0x7fb8e65c3710>"
            ]
          },
          "metadata": {
            "tags": []
          },
          "execution_count": 176
        }
      ]
    },
    {
      "cell_type": "code",
      "metadata": {
        "id": "KAooX0HVNEHr"
      },
      "source": [
        ""
      ],
      "execution_count": null,
      "outputs": []
    }
  ]
}